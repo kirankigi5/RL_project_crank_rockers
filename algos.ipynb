{
 "cells": [
  {
   "cell_type": "code",
   "execution_count": 2,
   "metadata": {},
   "outputs": [],
   "source": [
    "import numpy as np"
   ]
  },
  {
   "cell_type": "code",
   "execution_count": 3,
   "metadata": {},
   "outputs": [],
   "source": [
    "M = 20  # kg\n",
    "g = 9.8 # m / s^2\n",
    "m = 0.5 # kg\n",
    "l = 0.5 # m"
   ]
  },
  {
   "cell_type": "code",
   "execution_count": 4,
   "metadata": {},
   "outputs": [],
   "source": [
    "v1 = ((M + m) * g) / (M * l)\n",
    "v2 = -(m * g) / M\n",
    "\n",
    "c1 = -1 / (M * l)\n",
    "c2 = 1 / M"
   ]
  },
  {
   "cell_type": "code",
   "execution_count": 5,
   "metadata": {},
   "outputs": [],
   "source": [
    "A = np.array([[0, 1, 0, 0], [0, 0, v2, 0], [0, 0, 0, 1], [0, 0, v1, 0]])\n",
    "B = np.array([[0], [c2], [0], [c1]])"
   ]
  },
  {
   "cell_type": "code",
   "execution_count": 6,
   "metadata": {},
   "outputs": [
    {
     "name": "stdout",
     "output_type": "stream",
     "text": [
      "(4, 4)\n",
      "(4, 1)\n"
     ]
    }
   ],
   "source": [
    "print(np.shape(A))\n",
    "print(np.shape(B))"
   ]
  },
  {
   "attachments": {},
   "cell_type": "markdown",
   "metadata": {},
   "source": [
    "## Controllability"
   ]
  },
  {
   "attachments": {},
   "cell_type": "markdown",
   "metadata": {},
   "source": [
    "CM = [B AB A<sup>2</sup>B A<sup>3</sup>B]"
   ]
  },
  {
   "cell_type": "code",
   "execution_count": 7,
   "metadata": {},
   "outputs": [],
   "source": [
    "CM = np.array([[B], [A @ B], [A @ A @ B], [A @ A @ A @ B]]).reshape(4, 4)"
   ]
  },
  {
   "cell_type": "code",
   "execution_count": 8,
   "metadata": {},
   "outputs": [
    {
     "name": "stdout",
     "output_type": "stream",
     "text": [
      "[[ 0.      0.05    0.     -0.1   ]\n",
      " [ 0.05    0.     -0.1     0.    ]\n",
      " [ 0.      0.0245  0.     -2.009 ]\n",
      " [ 0.0245  0.     -2.009   0.    ]]\n"
     ]
    }
   ],
   "source": [
    "print((CM))"
   ]
  },
  {
   "cell_type": "code",
   "execution_count": 9,
   "metadata": {},
   "outputs": [
    {
     "name": "stdout",
     "output_type": "stream",
     "text": [
      "Rank of CM:  4\n"
     ]
    }
   ],
   "source": [
    "rank = np.linalg.matrix_rank(CM)\n",
    "print(\"Rank of CM: \", rank)"
   ]
  },
  {
   "attachments": {},
   "cell_type": "markdown",
   "metadata": {},
   "source": [
    "> Rank of CM = 4, therefore controllable"
   ]
  },
  {
   "attachments": {},
   "cell_type": "markdown",
   "metadata": {},
   "source": [
    "## Stability\n"
   ]
  },
  {
   "cell_type": "code",
   "execution_count": 10,
   "metadata": {},
   "outputs": [
    {
     "name": "stdout",
     "output_type": "stream",
     "text": [
      "[[ 0.     1.     0.     0.   ]\n",
      " [ 0.     0.    -0.245  0.   ]\n",
      " [ 0.     0.     0.     1.   ]\n",
      " [ 0.     0.    20.09   0.   ]]\n"
     ]
    }
   ],
   "source": [
    "print(A)"
   ]
  },
  {
   "cell_type": "code",
   "execution_count": 11,
   "metadata": {},
   "outputs": [
    {
     "name": "stdout",
     "output_type": "stream",
     "text": [
      "Eigenvalues of matrix A: [ 0.          0.          4.48218697 -4.48218697]\n"
     ]
    }
   ],
   "source": [
    "eigenvalues = np.linalg.eigvals(A)\n",
    "\n",
    "print(\"Eigenvalues of matrix A:\", eigenvalues)"
   ]
  },
  {
   "attachments": {},
   "cell_type": "markdown",
   "metadata": {},
   "source": [
    ">One eigen value is positive, so the system is unstable"
   ]
  },
  {
   "attachments": {},
   "cell_type": "markdown",
   "metadata": {},
   "source": [
    "## Policy Iteration\n"
   ]
  },
  {
   "cell_type": "code",
   "execution_count": 12,
   "metadata": {},
   "outputs": [],
   "source": [
    "Q = np.diag([0, 100, 100, 100])\n",
    "R = np.array([[0.1]])\n"
   ]
  },
  {
   "cell_type": "code",
   "execution_count": 13,
   "metadata": {},
   "outputs": [
    {
     "name": "stdout",
     "output_type": "stream",
     "text": [
      "A:\n",
      " [[ 0.     1.     0.     0.   ]\n",
      " [ 0.     0.    -0.245  0.   ]\n",
      " [ 0.     0.     0.     1.   ]\n",
      " [ 0.     0.    20.09   0.   ]]\n",
      "B:\n",
      " [[ 0.  ]\n",
      " [ 0.05]\n",
      " [ 0.  ]\n",
      " [-0.1 ]]\n"
     ]
    }
   ],
   "source": [
    "print(\"A:\\n\", A)\n",
    "print(\"B:\\n\", B)"
   ]
  },
  {
   "cell_type": "code",
   "execution_count": 14,
   "metadata": {},
   "outputs": [
    {
     "name": "stdout",
     "output_type": "stream",
     "text": [
      "Eigenvalues of A + BF: [ 0.          9.63475861 -0.05825404 -4.48258043]\n"
     ]
    }
   ],
   "source": [
    "F = [   [0.  ]  ,       [-2.56725429], [-233.98715586],  [-52.22286859]]\n",
    "\n",
    "F = np.array(F).reshape(1, 4)\n",
    "print(\"Eigenvalues of A + BF:\", np.linalg.eigvals(A + B @ F))"
   ]
  },
  {
   "cell_type": "code",
   "execution_count": 15,
   "metadata": {},
   "outputs": [
    {
     "name": "stdout",
     "output_type": "stream",
     "text": [
      "Closed-loop system is unstable\n"
     ]
    }
   ],
   "source": [
    "import control\n",
    "# Define the desired closed-loop poles\n",
    "desired_poles = np.array([-20, 10, -3, -2])\n",
    "\n",
    "# Compute the feedback gain matrix F that places the closed-loop poles at the desired locations\n",
    "F = control.place(A, B, desired_poles)\n",
    "\n",
    "# Check if the closed-loop system is stable\n",
    "if np.all(np.real(np.linalg.eigvals(A + B @ F)) < 0):\n",
    "    print(\"Closed-loop system is stable\")\n",
    "else:\n",
    "    print(\"Closed-loop system is unstable\")\n"
   ]
  },
  {
   "attachments": {},
   "cell_type": "markdown",
   "metadata": {},
   "source": [
    "## Hewer's Algorithm"
   ]
  },
  {
   "cell_type": "code",
   "execution_count": 16,
   "metadata": {},
   "outputs": [
    {
     "name": "stdout",
     "output_type": "stream",
     "text": [
      "F [[0.00000000e+000 0.00000000e+000 2.00400816e+002 2.50905771e-126]]\n"
     ]
    }
   ],
   "source": [
    "from scipy.linalg import solve_continuous_are\n",
    "\n",
    "def policy_iteration(A, B, Q, R, F):\n",
    "    # P is I in 4x4\n",
    "    P = solve_continuous_are(A, B, Q, R) # solves the continuous algebraic Riccati equation\n",
    "\n",
    "    \n",
    "    for i in range(100):\n",
    "        F = -np.linalg.inv(R + B.T @ P @ B) @ B.T @ P @ A\n",
    "        P = Q + F.T @ R @ F + (A + B @ F).T @ P @ (A + B @ F)\n",
    "\n",
    "    return F\n",
    "\n",
    " \n",
    "F = policy_iteration(A, B, Q, R, F)\n",
    "\n",
    "print(\"F\", F)"
   ]
  },
  {
   "cell_type": "code",
   "execution_count": 17,
   "metadata": {},
   "outputs": [],
   "source": [
    "F = [   [0.  ]  ,       [-2.56725429], [-233.98715586],  [-52.22286859]]\n",
    "F = np.array(F).reshape(1, 4)\n"
   ]
  },
  {
   "cell_type": "code",
   "execution_count": 18,
   "metadata": {},
   "outputs": [],
   "source": [
    "import cv2\n",
    "\n",
    "class InvertedPendulum:\n",
    "    def __init__(self):\n",
    "        f = 0\n",
    "\n",
    "    def step( self, state_vec, t=None ):\n",
    "        \"\"\" state vector :\n",
    "                x0 : position of the cart\n",
    "                x1 : veclocity of the cart\n",
    "                x2 : angle of pendulum. In ref frame with x as forward of the cart and y as up. Angile with respect to ground plane\n",
    "                x3 : angular velocity of the pendulum\n",
    "        \"\"\"\n",
    "        CART_POS = state_vec[0]\n",
    "        BOB_ANG  = state_vec[2]*180. / np.pi  # degrees\n",
    "        LENGTH_OF_PENDULUM = 110.\n",
    "\n",
    "        IM = np.zeros( (512, 512,3), dtype='uint8' )\n",
    "        # IM = cv2.imread('imgs/background.jpg').resize((512, 512))\n",
    "\n",
    "        # Ground line\n",
    "        cv2.line(IM, (0, 450), (IM.shape[1], 450), (100,20,40), 4 )\n",
    "\n",
    "\n",
    "        # Mark ground line\n",
    "        XSTART = -5.\n",
    "        XEND = 30.\n",
    "        for xd in np.linspace( XSTART, XEND, 11 ):\n",
    "            x = int(   (xd - XSTART) / (XEND - XSTART) * IM.shape[0]   )\n",
    "\n",
    "            cv2.circle( IM, (x, 450), 5, (0,0,255), -1 )\n",
    "\n",
    "            cv2.putText(IM, str(xd), (x-15,450+15), cv2.FONT_HERSHEY_COMPLEX_SMALL, 0.8, (100,255,10), 1)\n",
    "\n",
    "\n",
    "        # Draw Wheels of the cart\n",
    "        wheel_1_pos = int(   (CART_POS - 2 - XSTART) / (XEND - XSTART) * IM.shape[0]   )\n",
    "        wheel_2_pos = int(   (CART_POS + 2 - XSTART) / (XEND - XSTART) * IM.shape[0]   )\n",
    "\n",
    "        cv2.circle( IM, (wheel_1_pos, 415), 25, (255,255,255), 6 )\n",
    "        cv2.circle( IM, (wheel_2_pos, 415), 25, (255,255,255), 6 )\n",
    "        cv2.circle( IM, (wheel_1_pos, 415), 2, (255,255,255), -1 )\n",
    "        cv2.circle( IM, (wheel_2_pos, 415), 2, (255,255,255), -1 )\n",
    "\n",
    "        # Cart base\n",
    "        cart_base_start = int(   (CART_POS - 2.5 - XSTART) / (XEND - XSTART) * IM.shape[0]   )\n",
    "        cart_base_end   = int(   (CART_POS + 2.5 - XSTART) / (XEND - XSTART) * IM.shape[0]   )\n",
    "\n",
    "        cv2.line( IM, (cart_base_start, 380), (cart_base_end, 380), (100,100,100), 6 )\n",
    "\n",
    "        # Pendulum hinge\n",
    "        pendulum_hinge_x = int(   (CART_POS - XSTART) / (XEND - XSTART) * IM.shape[0]   )\n",
    "        pendulum_hinge_y = 380\n",
    "        cv2.circle( IM, (pendulum_hinge_x, pendulum_hinge_y), 10, (100,100,100), -1 )\n",
    "\n",
    "\n",
    "        # Pendulum\n",
    "        pendulum_bob_x = int( LENGTH_OF_PENDULUM * np.cos( BOB_ANG / 180. * np.pi ) )\n",
    "        pendulum_bob_y = int( LENGTH_OF_PENDULUM * np.sin( BOB_ANG / 180. * np.pi ) )\n",
    "        cv2.circle( IM, (pendulum_hinge_x+pendulum_bob_x, pendulum_hinge_y-pendulum_bob_y), 10, (255,255,255), -1 )\n",
    "        cv2.line( IM, (pendulum_hinge_x, pendulum_hinge_y), (pendulum_hinge_x+pendulum_bob_x, pendulum_hinge_y-pendulum_bob_y), (255,255,255), 3 )\n",
    "\n",
    "        # Mark the current angle\n",
    "        angle_display = BOB_ANG % 360\n",
    "        if( angle_display > 180 ):\n",
    "            angle_display = -360+angle_display\n",
    "        cv2.putText(IM, \"theta=\"+str( np.round(angle_display,4) )+\" deg\", (pendulum_hinge_x-15, pendulum_hinge_y-15), cv2.FONT_HERSHEY_COMPLEX_SMALL, 0.8, (200,200,250), 1)\n",
    "\n",
    "\n",
    "        # Display on top\n",
    "        if t is not None:\n",
    "            cv2.putText(IM, \"t=\"+str(np.round(t,4))+\"sec\", (15, 15), cv2.FONT_HERSHEY_COMPLEX_SMALL, 0.8, (200,200,0), 1)\n",
    "            cv2.putText(IM, \"ANG=\"+str(np.round(BOB_ANG,4))+\" degrees\", (15, 35), cv2.FONT_HERSHEY_COMPLEX_SMALL, 0.8, (200,200,0), 1)\n",
    "            cv2.putText(IM, \"POS=\"+str(np.round(CART_POS,4))+\" m\", (15, 55), cv2.FONT_HERSHEY_COMPLEX_SMALL, 0.8, (200,200,0), 1)\n",
    "\n",
    "        return IM"
   ]
  },
  {
   "cell_type": "code",
   "execution_count": 19,
   "metadata": {},
   "outputs": [],
   "source": [
    "sys = InvertedPendulum()\n",
    "\n",
    "# Initial state\n",
    "x0 = np.array([[0], [0], [np.pi/6], [0.]])\n",
    "\n",
    "# U = F @ x, loop and store U and x\n",
    "x = x0\n",
    "U = []\n",
    "X = []\n",
    "\n",
    "for i in range(1000):\n",
    "    u = F @ x\n",
    "    x_dot = A @ x + B @ u\n",
    "    \n",
    "    x = x + x_dot * 0.01\n",
    "\n",
    "    U.append(u)\n",
    "    X.append(x)"
   ]
  },
  {
   "cell_type": "code",
   "execution_count": 20,
   "metadata": {},
   "outputs": [
    {
     "name": "stdout",
     "output_type": "stream",
     "text": [
      "Eigen values of A + BF [ 0.          9.63475861 -0.05825404 -4.48258043]\n"
     ]
    }
   ],
   "source": [
    "# print eig values of A + BF\n",
    "print(\"Eigen values of A + BF\", np.linalg.eigvals(A + B @ F))"
   ]
  },
  {
   "cell_type": "code",
   "execution_count": 21,
   "metadata": {},
   "outputs": [
    {
     "name": "stdout",
     "output_type": "stream",
     "text": [
      "[0.52359878]\n",
      "[0.52587584]\n",
      "[0.53054728]\n",
      "[0.53774627]\n",
      "[0.54762322]\n",
      "[0.56034718]\n",
      "[0.57610747]\n",
      "[0.59511548]\n",
      "[0.61760659]\n",
      "[0.64384235]\n",
      "[0.67411281]\n",
      "[0.70873915]\n",
      "[0.7480765]\n",
      "[0.79251714]\n",
      "[0.84249387]\n",
      "[0.89848385]\n",
      "[0.96101272]\n",
      "[1.03065918]\n",
      "[1.10805999]\n",
      "[1.19391545]\n",
      "[1.28899543]\n",
      "[1.39414599]\n",
      "[1.5102966]\n",
      "[1.63846813]\n",
      "[1.77978155]\n",
      "[1.9354675]\n",
      "[2.10687677]\n",
      "[2.29549185]\n",
      "[2.50293948]\n",
      "[2.73100455]\n",
      "[2.98164523]\n",
      "[3.25700962]\n",
      "[3.55945402]\n",
      "[3.89156288]\n",
      "[4.25617077]\n",
      "[4.65638642]\n",
      "[5.09561909]\n",
      "[5.57760747]\n",
      "[6.10645139]\n",
      "[6.68664656]\n",
      "[7.32312267]\n",
      "[8.02128519]\n",
      "[8.78706117]\n",
      "[9.62694941]\n",
      "[10.54807559]\n",
      "[11.55825257]\n",
      "[12.66604663]\n",
      "[13.88084996]\n",
      "[15.21296026]\n",
      "[16.67366797]\n",
      "[18.27535183]\n",
      "[20.03158376]\n",
      "[21.9572438]\n",
      "[24.06864609]\n",
      "[26.38367704]\n",
      "[28.9219468]\n",
      "[31.70495532]\n",
      "[34.75627439]\n",
      "[38.10174726]\n",
      "[41.76970746]\n",
      "[45.79121873]\n",
      "[50.20033803]\n",
      "[55.03440396]\n",
      "[60.33435287]\n",
      "[66.14506552]\n",
      "[72.51574708]\n",
      "[79.50034378]\n",
      "[87.15799969]\n",
      "[95.5535575]\n",
      "[104.75810753]\n",
      "[114.84958972]\n",
      "[125.91345354]\n",
      "[138.04338149]\n",
      "[151.34208235]\n",
      "[165.92216079]\n",
      "[181.90707088]\n",
      "[199.43216132]\n",
      "[218.64582149]\n",
      "[239.71073789]\n",
      "[262.8052716]\n",
      "[288.12496849]\n",
      "[315.88421494]\n",
      "[346.31805306]\n",
      "[379.68417081]\n",
      "[416.26508388]\n",
      "[456.37052776]\n",
      "[500.34008034]\n",
      "[548.54603708]\n",
      "[601.39656333]\n",
      "[659.33915025]\n",
      "[722.8644038]\n",
      "[792.5101987]\n",
      "[868.86623269]\n",
      "[952.57901956]\n",
      "[1044.35736316]\n",
      "[1144.97835899]\n",
      "[1255.29397388]\n",
      "[1376.23825966]\n",
      "[1508.83526188]\n",
      "[1654.20769042]\n",
      "[1813.58642566]\n",
      "[1988.32094032]\n",
      "[2179.89072566]\n",
      "[2389.91781837]\n",
      "[2620.18053452]\n",
      "[2872.62852666]\n",
      "[3149.39929173]\n",
      "[3452.83626936]\n",
      "[3785.50868396]\n",
      "[4150.23329857]\n",
      "[4550.09826456]\n",
      "[4988.48926928]\n",
      "[5469.11820291]\n",
      "[5996.0545873]\n",
      "[6573.76003296]\n",
      "[7207.12601582]\n",
      "[7901.51529374]\n",
      "[8662.80731336]\n",
      "[9497.44799185]\n",
      "[10412.50429498]\n",
      "[11415.72407359]\n",
      "[12515.60166531]\n",
      "[13721.44981669]\n",
      "[15043.47853496]\n",
      "[16492.8815369]\n",
      "[18081.93102694]\n",
      "[19824.08160675]\n",
      "[21734.08419644]\n",
      "[23828.11093167]\n",
      "[26123.89209436]\n",
      "[28640.86623629]\n",
      "[31400.3447668]\n",
      "[34425.69239809]\n",
      "[37742.524976]\n",
      "[41378.92637129]\n",
      "[45365.68626789]\n",
      "[49736.56086144]\n",
      "[54528.55867559]\n",
      "[59782.25391591]\n",
      "[65542.13001474]\n",
      "[71856.95627575]\n",
      "[78780.20080731]\n",
      "[86370.48324099]\n",
      "[94692.07106834]\n",
      "[103815.42379861]\n",
      "[113817.78954469]\n",
      "[124783.8590887]\n",
      "[136806.48296515]\n",
      "[149987.45763348]\n",
      "[164438.38739623]\n",
      "[180281.62936114]\n",
      "[197651.32944789]\n",
      "[216694.55821174]\n",
      "[237572.55610094]\n",
      "[260462.09869172]\n",
      "[285556.99346035]\n",
      "[313069.72076564]\n",
      "[343233.23293607]\n",
      "[376302.92669465]\n",
      "[412558.80562215]\n",
      "[452307.85096848]\n",
      "[495886.62088593]\n",
      "[543664.10009241]\n",
      "[596044.82409267]\n",
      "[653472.30441087]\n",
      "[716432.78383594]\n",
      "[785459.35347581]\n",
      "[861136.46647981]\n",
      "[944104.88664745]\n",
      "[1035067.11382359]\n",
      "[1134793.33201738]\n",
      "[1244127.93060813]\n",
      "[1363996.65385363]\n",
      "[1495414.43923623]\n",
      "[1639494.0110148]\n",
      "[1797455.30174457]\n",
      "[1970635.78153771]\n",
      "[2160501.78252319]\n",
      "[2368660.91439109]\n",
      "[2596875.67614453]\n",
      "[2847078.37931116]\n",
      "[3121387.50896994]\n",
      "[3422125.66112343]\n",
      "[3751839.20829257]\n",
      "[4113319.8598441]\n",
      "[4509628.29960336]\n",
      "[4944120.10089417]\n",
      "[5420474.13843019]\n",
      "[5942723.73762334]\n",
      "[6515290.82505308]\n",
      "[7143023.36925078]\n",
      "[7831236.42881344]\n",
      "[8585757.15540398]\n",
      "[9412974.132682]\n",
      "[10319891.4689215]\n",
      "[11314188.10132157]\n",
      "[12404282.81414448]\n",
      "[13599405.52119424]\n",
      "[14909675.41619002]\n",
      "[16346186.65273933]\n",
      "[17921102.27936987]\n",
      "[19647757.22497489]\n",
      "[21540771.20665764]\n",
      "[23616172.51597406]\n",
      "[25891533.73168121]\n",
      "[28386120.50808135]\n",
      "[31121054.69876388]\n",
      "[34119493.19692599]\n",
      "[37406824.00652652]\n",
      "[41010881.20442228]\n",
      "[44962180.61358719]\n",
      "[49294178.18287732]\n",
      "[54043553.26106246]\n",
      "[59250519.16362698]\n",
      "[64959163.66193223]\n",
      "[71217822.27768776]\n",
      "[78079487.54344387]\n",
      "[85602257.6943447]\n",
      "[93849828.59024855]\n",
      "[1.02892033e+08]\n",
      "[1.12805432e+08]\n",
      "[1.23673963e+08]\n",
      "[1.35589651e+08]\n",
      "[1.48653387e+08]\n",
      "[1.62975781e+08]\n",
      "[1.78678105e+08]\n",
      "[1.95893309e+08]\n",
      "[2.14767156e+08]\n",
      "[2.35459453e+08]\n",
      "[2.58145403e+08]\n",
      "[2.8301709e+08]\n",
      "[3.10285103e+08]\n",
      "[3.40180324e+08]\n"
     ]
    },
    {
     "ename": "error",
     "evalue": "OpenCV(4.7.0) :-1: error: (-5:Bad argument) in function 'circle'\n> Overload resolution failed:\n>  - Can't parse 'center'. Sequence item with index 0 has a wrong type\n>  - Can't parse 'center'. Sequence item with index 0 has a wrong type\n",
     "output_type": "error",
     "traceback": [
      "\u001b[1;31m---------------------------------------------------------------------------\u001b[0m",
      "\u001b[1;31merror\u001b[0m                                     Traceback (most recent call last)",
      "Cell \u001b[1;32mIn[21], line 4\u001b[0m\n\u001b[0;32m      1\u001b[0m syst \u001b[39m=\u001b[39m InvertedPendulum()\n\u001b[0;32m      3\u001b[0m \u001b[39mfor\u001b[39;00m i \u001b[39min\u001b[39;00m \u001b[39mrange\u001b[39m(\u001b[39m1000\u001b[39m):\n\u001b[1;32m----> 4\u001b[0m     rendered \u001b[39m=\u001b[39m syst\u001b[39m.\u001b[39;49mstep( [X[i][\u001b[39m0\u001b[39;49m], X[i][\u001b[39m1\u001b[39;49m], X[i][\u001b[39m2\u001b[39;49m], X[i][\u001b[39m3\u001b[39;49m]], t\u001b[39m=\u001b[39;49mi\u001b[39m*\u001b[39;49m\u001b[39m0.01\u001b[39;49m)\n\u001b[0;32m      5\u001b[0m     \u001b[39mprint\u001b[39m(X[i][\u001b[39m2\u001b[39m])\n\u001b[0;32m      6\u001b[0m     cv2\u001b[39m.\u001b[39mimshow( \u001b[39m'\u001b[39m\u001b[39mim\u001b[39m\u001b[39m'\u001b[39m, rendered )\n",
      "Cell \u001b[1;32mIn[18], line 40\u001b[0m, in \u001b[0;36mInvertedPendulum.step\u001b[1;34m(self, state_vec, t)\u001b[0m\n\u001b[0;32m     37\u001b[0m wheel_1_pos \u001b[39m=\u001b[39m \u001b[39mint\u001b[39m(   (CART_POS \u001b[39m-\u001b[39m \u001b[39m2\u001b[39m \u001b[39m-\u001b[39m XSTART) \u001b[39m/\u001b[39m (XEND \u001b[39m-\u001b[39m XSTART) \u001b[39m*\u001b[39m IM\u001b[39m.\u001b[39mshape[\u001b[39m0\u001b[39m]   )\n\u001b[0;32m     38\u001b[0m wheel_2_pos \u001b[39m=\u001b[39m \u001b[39mint\u001b[39m(   (CART_POS \u001b[39m+\u001b[39m \u001b[39m2\u001b[39m \u001b[39m-\u001b[39m XSTART) \u001b[39m/\u001b[39m (XEND \u001b[39m-\u001b[39m XSTART) \u001b[39m*\u001b[39m IM\u001b[39m.\u001b[39mshape[\u001b[39m0\u001b[39m]   )\n\u001b[1;32m---> 40\u001b[0m cv2\u001b[39m.\u001b[39;49mcircle( IM, (wheel_1_pos, \u001b[39m415\u001b[39;49m), \u001b[39m25\u001b[39;49m, (\u001b[39m255\u001b[39;49m,\u001b[39m255\u001b[39;49m,\u001b[39m255\u001b[39;49m), \u001b[39m6\u001b[39;49m )\n\u001b[0;32m     41\u001b[0m cv2\u001b[39m.\u001b[39mcircle( IM, (wheel_2_pos, \u001b[39m415\u001b[39m), \u001b[39m25\u001b[39m, (\u001b[39m255\u001b[39m,\u001b[39m255\u001b[39m,\u001b[39m255\u001b[39m), \u001b[39m6\u001b[39m )\n\u001b[0;32m     42\u001b[0m cv2\u001b[39m.\u001b[39mcircle( IM, (wheel_1_pos, \u001b[39m415\u001b[39m), \u001b[39m2\u001b[39m, (\u001b[39m255\u001b[39m,\u001b[39m255\u001b[39m,\u001b[39m255\u001b[39m), \u001b[39m-\u001b[39m\u001b[39m1\u001b[39m )\n",
      "\u001b[1;31merror\u001b[0m: OpenCV(4.7.0) :-1: error: (-5:Bad argument) in function 'circle'\n> Overload resolution failed:\n>  - Can't parse 'center'. Sequence item with index 0 has a wrong type\n>  - Can't parse 'center'. Sequence item with index 0 has a wrong type\n"
     ]
    }
   ],
   "source": [
    "syst = InvertedPendulum()\n",
    "\n",
    "for i in range(1000):\n",
    "    rendered = syst.step( [X[i][0], X[i][1], X[i][2], X[i][3]], t=i*0.01)\n",
    "    print(X[i][2])\n",
    "    cv2.imshow( 'im', rendered )\n",
    "\n",
    "    # Press q to exit\n",
    "\n",
    "    if cv2.waitKey(5) == ord('q'):\n",
    "        break\n",
    "\n",
    "cv2.destroyAllWindows()"
   ]
  },
  {
   "cell_type": "code",
   "execution_count": null,
   "metadata": {},
   "outputs": [
    {
     "ename": "",
     "evalue": "",
     "output_type": "error",
     "traceback": [
      "\u001b[1;31mCanceled future for execute_request message before replies were done"
     ]
    },
    {
     "ename": "",
     "evalue": "",
     "output_type": "error",
     "traceback": [
      "\u001b[1;31mThe Kernel crashed while executing code in the the current cell or a previous cell. Please review the code in the cell(s) to identify a possible cause of the failure. Click <a href='https://aka.ms/vscodeJupyterKernelCrash'>here</a> for more info. View Jupyter <a href='command:jupyter.viewOutput'>log</a> for further details."
     ]
    }
   ],
   "source": [
    "cv2.destroyAllWindows()"
   ]
  }
 ],
 "metadata": {
  "kernelspec": {
   "display_name": "Python 3",
   "language": "python",
   "name": "python3"
  },
  "language_info": {
   "codemirror_mode": {
    "name": "ipython",
    "version": 3
   },
   "file_extension": ".py",
   "mimetype": "text/x-python",
   "name": "python",
   "nbconvert_exporter": "python",
   "pygments_lexer": "ipython3",
   "version": "3.11.2"
  },
  "orig_nbformat": 4
 },
 "nbformat": 4,
 "nbformat_minor": 2
}
