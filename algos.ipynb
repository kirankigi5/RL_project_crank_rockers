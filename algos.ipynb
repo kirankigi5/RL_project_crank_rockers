{
 "cells": [
  {
   "cell_type": "code",
   "execution_count": 27,
   "metadata": {},
   "outputs": [],
   "source": [
    "import numpy as np"
   ]
  },
  {
   "cell_type": "code",
   "execution_count": 28,
   "metadata": {},
   "outputs": [],
   "source": [
    "M = 20  # kg\n",
    "g = 9.8 # m / s^2\n",
    "m = 0.5 # kg\n",
    "l = 0.5 # m"
   ]
  },
  {
   "cell_type": "code",
   "execution_count": 29,
   "metadata": {},
   "outputs": [],
   "source": [
    "v1 = ((M + m) * g) / (M * l)\n",
    "v2 = -(m * g) / M\n",
    "\n",
    "c1 = -1 / (M * l)\n",
    "c2 = 1 / M"
   ]
  },
  {
   "cell_type": "code",
   "execution_count": 30,
   "metadata": {},
   "outputs": [],
   "source": [
    "A = np.array([[0, 1, 0, 0], [0, 0, v2, 0], [0, 0, 0, 1], [0, 0, v1, 0]])\n",
    "B = np.array([[0], [c2], [0], [c1]])"
   ]
  },
  {
   "cell_type": "code",
   "execution_count": 31,
   "metadata": {},
   "outputs": [
    {
     "name": "stdout",
     "output_type": "stream",
     "text": [
      "(4, 4)\n",
      "(4, 1)\n"
     ]
    }
   ],
   "source": [
    "print(np.shape(A))\n",
    "print(np.shape(B))"
   ]
  },
  {
   "attachments": {},
   "cell_type": "markdown",
   "metadata": {},
   "source": [
    "## Controllability"
   ]
  },
  {
   "attachments": {},
   "cell_type": "markdown",
   "metadata": {},
   "source": [
    "CM = [B AB A<sup>2</sup>B A<sup>3</sup>B]"
   ]
  },
  {
   "cell_type": "code",
   "execution_count": 32,
   "metadata": {},
   "outputs": [],
   "source": [
    "CM = np.array([[B], [A @ B], [A @ A @ B], [A @ A @ A @ B]]).reshape(4, 4)"
   ]
  },
  {
   "cell_type": "code",
   "execution_count": 33,
   "metadata": {},
   "outputs": [
    {
     "name": "stdout",
     "output_type": "stream",
     "text": [
      "[[ 0.      0.05    0.     -0.1   ]\n",
      " [ 0.05    0.     -0.1     0.    ]\n",
      " [ 0.      0.0245  0.     -2.009 ]\n",
      " [ 0.0245  0.     -2.009   0.    ]]\n"
     ]
    }
   ],
   "source": [
    "print((CM))"
   ]
  },
  {
   "cell_type": "code",
   "execution_count": 34,
   "metadata": {},
   "outputs": [
    {
     "name": "stdout",
     "output_type": "stream",
     "text": [
      "Rank of CM:  4\n"
     ]
    }
   ],
   "source": [
    "rank = np.linalg.matrix_rank(CM)\n",
    "print(\"Rank of CM: \", rank)"
   ]
  },
  {
   "attachments": {},
   "cell_type": "markdown",
   "metadata": {},
   "source": [
    "> Rank of CM = 4, therefore controllable"
   ]
  },
  {
   "attachments": {},
   "cell_type": "markdown",
   "metadata": {},
   "source": [
    "## Stability\n"
   ]
  },
  {
   "cell_type": "code",
   "execution_count": 35,
   "metadata": {},
   "outputs": [
    {
     "name": "stdout",
     "output_type": "stream",
     "text": [
      "[[ 0.     1.     0.     0.   ]\n",
      " [ 0.     0.    -0.245  0.   ]\n",
      " [ 0.     0.     0.     1.   ]\n",
      " [ 0.     0.    20.09   0.   ]]\n"
     ]
    }
   ],
   "source": [
    "print(A)"
   ]
  },
  {
   "cell_type": "code",
   "execution_count": 36,
   "metadata": {},
   "outputs": [
    {
     "name": "stdout",
     "output_type": "stream",
     "text": [
      "Eigenvalues of matrix A: [ 0.          0.          4.48218697 -4.48218697]\n"
     ]
    }
   ],
   "source": [
    "eigenvalues = np.linalg.eigvals(A)\n",
    "\n",
    "print(\"Eigenvalues of matrix A:\", eigenvalues)"
   ]
  },
  {
   "attachments": {},
   "cell_type": "markdown",
   "metadata": {},
   "source": [
    ">One eigen value is positive, so the system is unstable"
   ]
  },
  {
   "attachments": {},
   "cell_type": "markdown",
   "metadata": {},
   "source": [
    "## Policy Iteration\n"
   ]
  },
  {
   "cell_type": "code",
   "execution_count": 37,
   "metadata": {},
   "outputs": [],
   "source": [
    "Q = np.array([[100, 0, 0, 0], [0, 100, 0, 0], [0, 0, 1, 0], [0, 0, 0, 1]])\n",
    "R = np.array([[0.01]])\n"
   ]
  },
  {
   "cell_type": "code",
   "execution_count": 38,
   "metadata": {},
   "outputs": [
    {
     "name": "stdout",
     "output_type": "stream",
     "text": [
      "A [[ 0.     1.     0.     0.   ]\n",
      " [ 0.     0.    -0.245  0.   ]\n",
      " [ 0.     0.     0.     1.   ]\n",
      " [ 0.     0.    20.09   0.   ]]\n",
      "B [[ 0.  ]\n",
      " [ 0.05]\n",
      " [ 0.  ]\n",
      " [-0.1 ]]\n"
     ]
    }
   ],
   "source": [
    "print(\"A\", A)\n",
    "print(\"B\", B)"
   ]
  },
  {
   "cell_type": "code",
   "execution_count": 39,
   "metadata": {},
   "outputs": [
    {
     "name": "stdout",
     "output_type": "stream",
     "text": [
      "Eigenvalues of A + BF: [ 0.00000000e+00  6.22917522e-04  4.48319660e+00 -4.48117784e+00]\n"
     ]
    }
   ],
   "source": [
    "F = [[ 0.        ],\n",
    " [ 0.01276981],\n",
    " [ 0.        ],\n",
    " [-0.02003184]]\n",
    "\n",
    "F = np.array(F).reshape(1, 4)\n",
    "# F1 = [1, 1, 1, 1]\n",
    "# F1 = np.array(F1).reshape(1, 4)\n",
    "# # print eigenvalues of A + BF\n",
    "# epsilon=0.01\n",
    "# while(1):\n",
    "#     if(max(np.linalg.eigvals(A + B @ F)) < 1 and min(np.linalg.eigvals(A + B @ F)) > -1):\n",
    "#         break\n",
    "#     F = F- epsilon*F1\n",
    "#     print(\"Eigenvalues of A + BF:\", np.linalg.eigvals(A + B @ F))\n",
    "print(\"Eigenvalues of A + BF:\", np.linalg.eigvals(A + B @ F))"
   ]
  },
  {
   "cell_type": "code",
   "execution_count": 26,
   "metadata": {},
   "outputs": [
    {
     "ename": "ValueError",
     "evalue": "matmul: Input operand 1 has a mismatch in its core dimension 0, with gufunc signature (n?,k),(k,m?)->(n?,m?) (size 1 is different from 4)",
     "output_type": "error",
     "traceback": [
      "\u001b[1;31m---------------------------------------------------------------------------\u001b[0m",
      "\u001b[1;31mValueError\u001b[0m                                Traceback (most recent call last)",
      "Cell \u001b[1;32mIn[26], line 18\u001b[0m\n\u001b[0;32m     13\u001b[0m         F \u001b[39m=\u001b[39m \u001b[39m-\u001b[39mnp\u001b[39m.\u001b[39mlinalg\u001b[39m.\u001b[39minv(R \u001b[39m+\u001b[39m B\u001b[39m.\u001b[39mT \u001b[39m@\u001b[39m P \u001b[39m@\u001b[39m B) \u001b[39m@\u001b[39m B\u001b[39m.\u001b[39mT \u001b[39m@\u001b[39m P \u001b[39m@\u001b[39m A\n\u001b[0;32m     15\u001b[0m     \u001b[39mreturn\u001b[39;00m F\n\u001b[1;32m---> 18\u001b[0m F \u001b[39m=\u001b[39m policy_iteration(A, B, Q, R, F)\n\u001b[0;32m     20\u001b[0m \u001b[39mprint\u001b[39m(\u001b[39m\"\u001b[39m\u001b[39mF\u001b[39m\u001b[39m\"\u001b[39m, F)\n",
      "Cell \u001b[1;32mIn[26], line 8\u001b[0m, in \u001b[0;36mpolicy_iteration\u001b[1;34m(A, B, Q, R, F)\u001b[0m\n\u001b[0;32m      6\u001b[0m \u001b[39mfor\u001b[39;00m i \u001b[39min\u001b[39;00m \u001b[39mrange\u001b[39m(\u001b[39m10000\u001b[39m):\n\u001b[0;32m      7\u001b[0m     \u001b[39mfor\u001b[39;00m i \u001b[39min\u001b[39;00m \u001b[39mrange\u001b[39m(\u001b[39m100\u001b[39m):\n\u001b[1;32m----> 8\u001b[0m         P_new \u001b[39m=\u001b[39m Q \u001b[39m+\u001b[39m F\u001b[39m.\u001b[39;49mT \u001b[39m@\u001b[39;49m R \u001b[39m@\u001b[39m F \u001b[39m+\u001b[39m (A \u001b[39m+\u001b[39m B \u001b[39m@\u001b[39m F)\u001b[39m.\u001b[39mT \u001b[39m@\u001b[39m P \u001b[39m@\u001b[39m (A \u001b[39m+\u001b[39m B \u001b[39m@\u001b[39m F)\n\u001b[0;32m      9\u001b[0m         \u001b[39mif\u001b[39;00m np\u001b[39m.\u001b[39mallclose(P, P_new):\n\u001b[0;32m     10\u001b[0m             \u001b[39mbreak\u001b[39;00m\n",
      "\u001b[1;31mValueError\u001b[0m: matmul: Input operand 1 has a mismatch in its core dimension 0, with gufunc signature (n?,k),(k,m?)->(n?,m?) (size 1 is different from 4)"
     ]
    }
   ],
   "source": [
    "def policy_iteration(A, B, Q, R, F):\n",
    "    # P is I in 4x4\n",
    "    P = np.identity(4)\n",
    "\n",
    "    \n",
    "    for i in range(10000):\n",
    "        for i in range(100):\n",
    "            P_new = Q + F.T @ R @ F + (A + B @ F).T @ P @ (A + B @ F)\n",
    "            if np.allclose(P, P_new):\n",
    "                break\n",
    "            P = P_new\n",
    "\n",
    "        F = -np.linalg.inv(R + B.T @ P @ B) @ B.T @ P @ A\n",
    "        \n",
    "\n",
    "    return F\n",
    "\n",
    " \n",
    "F = policy_iteration(A, B, Q, R, F)\n",
    "\n",
    "print(\"F\", F)"
   ]
  },
  {
   "cell_type": "code",
   "execution_count": 211,
   "metadata": {},
   "outputs": [],
   "source": [
    "import cv2\n",
    "\n",
    "class InvertedPendulum:\n",
    "    def __init__(self):\n",
    "        f = 0\n",
    "\n",
    "    def step( self, state_vec, t=None ):\n",
    "        \"\"\" state vector :\n",
    "                x0 : position of the cart\n",
    "                x1 : veclocity of the cart\n",
    "                x2 : angle of pendulum. In ref frame with x as forward of the cart and y as up. Angile with respect to ground plane\n",
    "                x3 : angular velocity of the pendulum\n",
    "        \"\"\"\n",
    "        CART_POS = state_vec[0]\n",
    "        BOB_ANG  = state_vec[2]*180. / np.pi # degrees\n",
    "        LENGTH_OF_PENDULUM = 110.\n",
    "\n",
    "        IM = np.zeros( (512, 512,3), dtype='uint8' )\n",
    "\n",
    "        # Ground line\n",
    "        cv2.line(IM, (0, 450), (IM.shape[1], 450), (19,69,139), 4 )\n",
    "\n",
    "\n",
    "        # Mark ground line\n",
    "        XSTART = -5.\n",
    "        XEND = 5.\n",
    "        for xd in np.linspace( XSTART, XEND, 11 ):\n",
    "            x = int(   (xd - XSTART) / (XEND - XSTART) * IM.shape[0]   )\n",
    "\n",
    "            cv2.circle( IM, (x, 450), 5, (0,255,0), -1 )\n",
    "\n",
    "            cv2.putText(IM, str(xd), (x-15,450+15), cv2.FONT_HERSHEY_COMPLEX_SMALL, 0.8, (200,200,250), 1);\n",
    "\n",
    "\n",
    "        # Draw Wheels of the cart\n",
    "        wheel_1_pos = int(   (CART_POS - 1.2 - XSTART) / (XEND - XSTART) * IM.shape[0]   )\n",
    "        wheel_2_pos = int(   (CART_POS + 1.2 - XSTART) / (XEND - XSTART) * IM.shape[0]   )\n",
    "\n",
    "        cv2.circle( IM, (wheel_1_pos, 415), 25, (255,255,255), 6 )\n",
    "        cv2.circle( IM, (wheel_2_pos, 415), 25, (255,255,255), 6 )\n",
    "        cv2.circle( IM, (wheel_1_pos, 415), 2, (255,255,255), -1 )\n",
    "        cv2.circle( IM, (wheel_2_pos, 415), 2, (255,255,255), -1 )\n",
    "\n",
    "        # Cart base\n",
    "        cart_base_start = int(   (CART_POS - 2.5 - XSTART) / (XEND - XSTART) * IM.shape[0]   )\n",
    "        cart_base_end   = int(   (CART_POS + 2.5 - XSTART) / (XEND - XSTART) * IM.shape[0]   )\n",
    "\n",
    "        cv2.line( IM, (cart_base_start, 380), (cart_base_end, 380), (255,255,255), 6 )\n",
    "\n",
    "        # Pendulum hinge\n",
    "        pendulum_hinge_x = int(   (CART_POS - XSTART) / (XEND - XSTART) * IM.shape[0]   )\n",
    "        pendulum_hinge_y = 380\n",
    "        cv2.circle( IM, (pendulum_hinge_x, pendulum_hinge_y), 10, (255,255,255), -1 )\n",
    "\n",
    "\n",
    "        # Pendulum\n",
    "        pendulum_bob_x = int( LENGTH_OF_PENDULUM * np.cos( BOB_ANG / 180. * np.pi ) )\n",
    "        pendulum_bob_y = int( LENGTH_OF_PENDULUM * np.sin( BOB_ANG / 180. * np.pi ) )\n",
    "        cv2.circle( IM, (pendulum_hinge_x+pendulum_bob_x, pendulum_hinge_y-pendulum_bob_y), 10, (255,255,255), -1 )\n",
    "        cv2.line( IM, (pendulum_hinge_x, pendulum_hinge_y), (pendulum_hinge_x+pendulum_bob_x, pendulum_hinge_y-pendulum_bob_y), (255,255,255), 3 )\n",
    "\n",
    "        # Mark the current angle\n",
    "        angle_display = BOB_ANG % 360\n",
    "        if( angle_display > 180 ):\n",
    "            angle_display = -360+angle_display\n",
    "        cv2.putText(IM, \"theta=\"+str( np.round(angle_display,4) )+\" deg\", (pendulum_hinge_x-15, pendulum_hinge_y-15), cv2.FONT_HERSHEY_COMPLEX_SMALL, 0.8, (200,200,250), 1)\n",
    "\n",
    "\n",
    "        # Display on top\n",
    "        if t is not None:\n",
    "            cv2.putText(IM, \"t=\"+str(np.round(t,4))+\"sec\", (15, 15), cv2.FONT_HERSHEY_COMPLEX_SMALL, 0.8, (200,200,250), 1)\n",
    "            cv2.putText(IM, \"ANG=\"+str(np.round(BOB_ANG,4))+\" degrees\", (15, 35), cv2.FONT_HERSHEY_COMPLEX_SMALL, 0.8, (200,200,250), 1)\n",
    "            cv2.putText(IM, \"POS=\"+str(np.round(CART_POS,4))+\" m\", (15, 55), cv2.FONT_HERSHEY_COMPLEX_SMALL, 0.8, (200,200,250), 1)\n",
    "\n",
    "\n",
    "\n",
    "        return IM"
   ]
  },
  {
   "cell_type": "code",
   "execution_count": 212,
   "metadata": {},
   "outputs": [],
   "source": [
    "sys = InvertedPendulum()\n",
    "\n",
    "# Initial state\n",
    "x0 = np.array([0, 0, np.pi/6, 0.])\n",
    "\n",
    "# U = F @ x, loop and store U and x\n",
    "x = x0\n",
    "U = []\n",
    "X = []\n",
    "\n",
    "for i in range(100):\n",
    "    u = -F @ x\n",
    "    x_dot = A @ x + B @ u\n",
    "    \n",
    "    x = x + x_dot * 0.01\n",
    "\n",
    "    U.append(u)\n",
    "    X.append(x)"
   ]
  },
  {
   "cell_type": "code",
   "execution_count": 213,
   "metadata": {},
   "outputs": [
    {
     "name": "stdout",
     "output_type": "stream",
     "text": [
      "Eigen values of A + BF [ 0.          0.          0.22580797 -0.22580797]\n"
     ]
    }
   ],
   "source": [
    "# print eig values of A + BF\n",
    "print(\"Eigen values of A + BF\", np.linalg.eigvals(A + B @ F))"
   ]
  },
  {
   "cell_type": "code",
   "execution_count": 214,
   "metadata": {},
   "outputs": [
    {
     "name": "stdout",
     "output_type": "stream",
     "text": [
      "0.5235987755982988\n",
      "0.5256999256883176\n",
      "0.5299022258683552\n",
      "0.5362141078458689\n",
      "0.5446524350357729\n",
      "0.5552425363960468\n",
      "0.568018274098951\n",
      "0.5830221451736297\n",
      "0.6003054173916582\n",
      "0.6199282998034171\n",
      "0.6419601484705879\n",
      "0.666479708079116\n",
      "0.6935753902582253\n",
      "0.7233455895750533\n",
      "0.755899038321773\n",
      "0.791355201363257\n",
      "0.8298447124690104\n",
      "0.8715098537138551\n",
      "0.9165050796983243\n",
      "0.9649975885125531\n",
      "1.017167941547312\n",
      "1.0732107344434023\n",
      "1.133335321666655\n",
      "1.1977665974009881\n",
      "1.266745835667167\n",
      "1.3405315928009176\n",
      "1.4194006756617035\n",
      "1.503649179193724\n",
      "1.5935935972244588\n",
      "1.6895720106643874\n",
      "1.7919453575654103\n",
      "1.9010987898060985\n",
      "2.0174431215003903\n",
      "2.1414163745739794\n",
      "2.273485427320715\n",
      "2.414147772141257\n",
      "2.563933389079487\n",
      "2.723406742210295\n",
      "2.8931689063970705\n",
      "3.0738598324301933\n",
      "3.2661607590810022\n",
      "3.4707967811610088\n",
      "3.6885395832656958\n",
      "3.9202103495082676\n",
      "4.166682860213593\n",
      "4.428886787248817\n",
      "4.707811200417367\n",
      "5.004508298140188\n",
      "5.320097376495021\n",
      "5.65576905158458\n",
      "6.012789751160987\n",
      "6.392506492450409\n",
      "6.7963519642023495\n",
      "7.225849932136525\n",
      "7.682620988181087\n",
      "8.168388665193723\n",
      "8.684985940236743\n",
      "9.234362150943944\n",
      "9.818590351076233\n",
      "10.439875133020715\n",
      "11.100560946750361\n",
      "11.803140946635173\n",
      "12.550266399487999\n",
      "13.34475668934639\n",
      "14.189609956744047\n",
      "15.088014412620057\n",
      "16.04336036956027\n",
      "17.059253035772397\n",
      "18.13952612007505\n",
      "19.288256299241628\n",
      "20.50977860229456\n",
      "21.80870276980592\n",
      "23.18993064994005\n",
      "24.658674696886468\n",
      "26.22047764149164\n",
      "27.881233408322007\n",
      "29.64720935809456\n",
      "31.525069939413072\n",
      "33.52190183906667\n",
      "35.64524072580281\n",
      "37.903099688500305\n",
      "40.30399947606257\n",
      "42.85700065315059\n",
      "45.57173779310537\n",
      "48.45845583709761\n",
      "51.52804875671744\n",
      "54.79210066590986\n",
      "58.26292953740506\n",
      "61.95363368862173\n",
      "65.8781412124731\n",
      "70.05126253961897\n",
      "74.4887463305248\n",
      "79.20733890825478\n",
      "84.22484745628842\n",
      "89.56020721985834\n",
      "95.23355296441606\n",
      "101.26629496089795\n",
      "107.68119978454716\n",
      "114.50247623221293\n",
      "121.75586668236487\n"
     ]
    }
   ],
   "source": [
    "syst = InvertedPendulum()\n",
    "\n",
    "for i in range(len(X)):\n",
    "    rendered = syst.step( [X[i][0], X[i][1], X[i][2], X[i][3]], t=i*0.01)\n",
    "    print(X[i][2])\n",
    "    cv2.imshow( 'im', rendered )\n",
    "\n",
    "    # Press q to exit\n",
    "\n",
    "    if cv2.waitKey(5) == ord('q'):\n",
    "        break"
   ]
  }
 ],
 "metadata": {
  "kernelspec": {
   "display_name": "Python 3",
   "language": "python",
   "name": "python3"
  },
  "language_info": {
   "codemirror_mode": {
    "name": "ipython",
    "version": 3
   },
   "file_extension": ".py",
   "mimetype": "text/x-python",
   "name": "python",
   "nbconvert_exporter": "python",
   "pygments_lexer": "ipython3",
   "version": "3.11.2"
  },
  "orig_nbformat": 4
 },
 "nbformat": 4,
 "nbformat_minor": 2
}
