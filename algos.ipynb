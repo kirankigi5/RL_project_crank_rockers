{
 "cells": [
  {
   "cell_type": "code",
   "execution_count": 116,
   "metadata": {},
   "outputs": [],
   "source": [
    "import numpy as np"
   ]
  },
  {
   "cell_type": "code",
   "execution_count": 117,
   "metadata": {},
   "outputs": [],
   "source": [
    "M = 20  # kg\n",
    "g = 9.8 # m / s^2\n",
    "m = 0.5 # kg\n",
    "l = 0.5 # m"
   ]
  },
  {
   "cell_type": "code",
   "execution_count": 118,
   "metadata": {},
   "outputs": [],
   "source": [
    "v1 = ((M + m) * g) / (M * l)\n",
    "v2 = -(m * g) / M\n",
    "\n",
    "c1 = -1 / (M * l)\n",
    "c2 = 1 / M"
   ]
  },
  {
   "cell_type": "code",
   "execution_count": 119,
   "metadata": {},
   "outputs": [],
   "source": [
    "A = np.array([[0, 1, 0, 0], [0, 0, v2, 0], [0, 0, 0, 1], [0, 0, v1, 0]])\n",
    "B = np.array([[0], [c2], [0], [c1]])"
   ]
  },
  {
   "cell_type": "code",
   "execution_count": 120,
   "metadata": {},
   "outputs": [
    {
     "name": "stdout",
     "output_type": "stream",
     "text": [
      "(4, 4)\n",
      "(4, 1)\n"
     ]
    }
   ],
   "source": [
    "print(np.shape(A))\n",
    "print(np.shape(B))"
   ]
  },
  {
   "attachments": {},
   "cell_type": "markdown",
   "metadata": {},
   "source": [
    "## Controllability"
   ]
  },
  {
   "attachments": {},
   "cell_type": "markdown",
   "metadata": {},
   "source": [
    "CM = [B AB A<sup>2</sup>B A<sup>3</sup>B]"
   ]
  },
  {
   "cell_type": "code",
   "execution_count": 121,
   "metadata": {},
   "outputs": [],
   "source": [
    "CM = np.array([[B], [A @ B], [A @ A @ B], [A @ A @ A @ B]]).reshape(4, 4)"
   ]
  },
  {
   "cell_type": "code",
   "execution_count": 122,
   "metadata": {},
   "outputs": [
    {
     "name": "stdout",
     "output_type": "stream",
     "text": [
      "[[ 0.      0.05    0.     -0.1   ]\n",
      " [ 0.05    0.     -0.1     0.    ]\n",
      " [ 0.      0.0245  0.     -2.009 ]\n",
      " [ 0.0245  0.     -2.009   0.    ]]\n"
     ]
    }
   ],
   "source": [
    "print((CM))"
   ]
  },
  {
   "cell_type": "code",
   "execution_count": 123,
   "metadata": {},
   "outputs": [
    {
     "name": "stdout",
     "output_type": "stream",
     "text": [
      "Rank of CM:  4\n"
     ]
    }
   ],
   "source": [
    "rank = np.linalg.matrix_rank(CM)\n",
    "print(\"Rank of CM: \", rank)"
   ]
  },
  {
   "attachments": {},
   "cell_type": "markdown",
   "metadata": {},
   "source": [
    "> Rank of CM = 4, therefore controllable"
   ]
  },
  {
   "attachments": {},
   "cell_type": "markdown",
   "metadata": {},
   "source": [
    "## Stability\n"
   ]
  },
  {
   "cell_type": "code",
   "execution_count": 124,
   "metadata": {},
   "outputs": [
    {
     "name": "stdout",
     "output_type": "stream",
     "text": [
      "[[ 0.     1.     0.     0.   ]\n",
      " [ 0.     0.    -0.245  0.   ]\n",
      " [ 0.     0.     0.     1.   ]\n",
      " [ 0.     0.    20.09   0.   ]]\n"
     ]
    }
   ],
   "source": [
    "print(A)"
   ]
  },
  {
   "cell_type": "code",
   "execution_count": 125,
   "metadata": {},
   "outputs": [
    {
     "name": "stdout",
     "output_type": "stream",
     "text": [
      "Eigenvalues of matrix A: [ 0.          0.          4.48218697 -4.48218697]\n"
     ]
    }
   ],
   "source": [
    "eigenvalues = np.linalg.eigvals(A)\n",
    "\n",
    "print(\"Eigenvalues of matrix A:\", eigenvalues)"
   ]
  },
  {
   "attachments": {},
   "cell_type": "markdown",
   "metadata": {},
   "source": [
    ">One eigen value is positive, so the system is unstable"
   ]
  },
  {
   "attachments": {},
   "cell_type": "markdown",
   "metadata": {},
   "source": [
    "## Policy Iteration\n"
   ]
  },
  {
   "cell_type": "code",
   "execution_count": 134,
   "metadata": {},
   "outputs": [],
   "source": [
    "Q = np.array([[-100, 0, 0, 0], [0, -100, 0, 0], [0, 0, -1, 0], [0, 0, 0, -1]])\n",
    "R = np.array([[0.01]])\n"
   ]
  },
  {
   "cell_type": "code",
   "execution_count": 135,
   "metadata": {},
   "outputs": [
    {
     "name": "stdout",
     "output_type": "stream",
     "text": [
      "A [[ 0.     1.     0.     0.   ]\n",
      " [ 0.     0.    -0.245  0.   ]\n",
      " [ 0.     0.     0.     1.   ]\n",
      " [ 0.     0.    20.09   0.   ]]\n",
      "B [[ 0.  ]\n",
      " [ 0.05]\n",
      " [ 0.  ]\n",
      " [-0.1 ]]\n"
     ]
    }
   ],
   "source": [
    "print(\"A\", A)\n",
    "print(\"B\", B)"
   ]
  },
  {
   "cell_type": "code",
   "execution_count": 136,
   "metadata": {},
   "outputs": [
    {
     "name": "stdout",
     "output_type": "stream",
     "text": [
      "Eigenvalues of A + BF: [ 0.          0.          4.48218697 -4.48218697]\n"
     ]
    }
   ],
   "source": [
    "F = [0, 0, 0, 0]\n",
    "F = np.array(F).reshape(1, 4)\n",
    "# print eigenvalues of A + BF\n",
    "print(\"Eigenvalues of A + BF:\", np.linalg.eigvals(A + B @ F))"
   ]
  },
  {
   "cell_type": "code",
   "execution_count": 142,
   "metadata": {},
   "outputs": [
    {
     "name": "stdout",
     "output_type": "stream",
     "text": [
      "F [[ 0.00000000e+00  0.00000000e+00  2.00389583e+02 -2.36472947e-12]]\n"
     ]
    }
   ],
   "source": [
    "def policy_iteration(A, B, Q, R, F):\n",
    "    P = np.ones((4, 4))\n",
    "    \n",
    "    \n",
    "    for i in range(10000):\n",
    "        for i in range(100):\n",
    "            P_new = Q + F.T @ R @ F + (A + B @ F).T @ P @ (A + B @ F)\n",
    "            if np.allclose(P, P_new):\n",
    "                break\n",
    "            P = P_new\n",
    "\n",
    "        F = -np.linalg.inv(R + B.T @ P @ B) @ B.T @ P @ A\n",
    "\n",
    "    return F\n",
    "\n",
    " \n",
    "F = policy_iteration(A, B, Q, R, F)\n",
    "\n",
    "print(\"F\", F)"
   ]
  },
  {
   "cell_type": "code",
   "execution_count": 143,
   "metadata": {},
   "outputs": [],
   "source": [
    "import cv2\n",
    "\n",
    "class InvertedPendulum:\n",
    "    def __init__(self):\n",
    "        f = 0\n",
    "\n",
    "    def step( self, state_vec, t=None ):\n",
    "        \"\"\" state vector :\n",
    "                x0 : position of the cart\n",
    "                x1 : veclocity of the cart\n",
    "                x2 : angle of pendulum. In ref frame with x as forward of the cart and y as up. Angile with respect to ground plane\n",
    "                x3 : angular velocity of the pendulum\n",
    "        \"\"\"\n",
    "        CART_POS = state_vec[0]\n",
    "        BOB_ANG  = state_vec[2]*180. / np.pi # degrees\n",
    "        LENGTH_OF_PENDULUM = 110.\n",
    "\n",
    "        IM = np.zeros( (512, 512,3), dtype='uint8' )\n",
    "\n",
    "        # Ground line\n",
    "        cv2.line(IM, (0, 450), (IM.shape[1], 450), (19,69,139), 4 )\n",
    "\n",
    "\n",
    "        # Mark ground line\n",
    "        XSTART = -5.\n",
    "        XEND = 5.\n",
    "        for xd in np.linspace( XSTART, XEND, 11 ):\n",
    "            x = int(   (xd - XSTART) / (XEND - XSTART) * IM.shape[0]   )\n",
    "\n",
    "            cv2.circle( IM, (x, 450), 5, (0,255,0), -1 )\n",
    "\n",
    "            cv2.putText(IM, str(xd), (x-15,450+15), cv2.FONT_HERSHEY_COMPLEX_SMALL, 0.8, (200,200,250), 1);\n",
    "\n",
    "\n",
    "        # Draw Wheels of the cart\n",
    "        wheel_1_pos = int(   (CART_POS - 1.2 - XSTART) / (XEND - XSTART) * IM.shape[0]   )\n",
    "        wheel_2_pos = int(   (CART_POS + 1.2 - XSTART) / (XEND - XSTART) * IM.shape[0]   )\n",
    "\n",
    "        cv2.circle( IM, (wheel_1_pos, 415), 25, (255,255,255), 6 )\n",
    "        cv2.circle( IM, (wheel_2_pos, 415), 25, (255,255,255), 6 )\n",
    "        cv2.circle( IM, (wheel_1_pos, 415), 2, (255,255,255), -1 )\n",
    "        cv2.circle( IM, (wheel_2_pos, 415), 2, (255,255,255), -1 )\n",
    "\n",
    "        # Cart base\n",
    "        cart_base_start = int(   (CART_POS - 2.5 - XSTART) / (XEND - XSTART) * IM.shape[0]   )\n",
    "        cart_base_end   = int(   (CART_POS + 2.5 - XSTART) / (XEND - XSTART) * IM.shape[0]   )\n",
    "\n",
    "        cv2.line( IM, (cart_base_start, 380), (cart_base_end, 380), (255,255,255), 6 )\n",
    "\n",
    "        # Pendulum hinge\n",
    "        pendulum_hinge_x = int(   (CART_POS - XSTART) / (XEND - XSTART) * IM.shape[0]   )\n",
    "        pendulum_hinge_y = 380\n",
    "        cv2.circle( IM, (pendulum_hinge_x, pendulum_hinge_y), 10, (255,255,255), -1 )\n",
    "\n",
    "\n",
    "        # Pendulum\n",
    "        pendulum_bob_x = int( LENGTH_OF_PENDULUM * np.cos( BOB_ANG / 180. * np.pi ) )\n",
    "        pendulum_bob_y = int( LENGTH_OF_PENDULUM * np.sin( BOB_ANG / 180. * np.pi ) )\n",
    "        cv2.circle( IM, (pendulum_hinge_x+pendulum_bob_x, pendulum_hinge_y-pendulum_bob_y), 10, (255,255,255), -1 )\n",
    "        cv2.line( IM, (pendulum_hinge_x, pendulum_hinge_y), (pendulum_hinge_x+pendulum_bob_x, pendulum_hinge_y-pendulum_bob_y), (255,255,255), 3 )\n",
    "\n",
    "        # Mark the current angle\n",
    "        angle_display = BOB_ANG % 360\n",
    "        if( angle_display > 180 ):\n",
    "            angle_display = -360+angle_display\n",
    "        cv2.putText(IM, \"theta=\"+str( np.round(angle_display,4) )+\" deg\", (pendulum_hinge_x-15, pendulum_hinge_y-15), cv2.FONT_HERSHEY_COMPLEX_SMALL, 0.8, (200,200,250), 1)\n",
    "\n",
    "\n",
    "        # Display on top\n",
    "        if t is not None:\n",
    "            cv2.putText(IM, \"t=\"+str(np.round(t,4))+\"sec\", (15, 15), cv2.FONT_HERSHEY_COMPLEX_SMALL, 0.8, (200,200,250), 1)\n",
    "            cv2.putText(IM, \"ANG=\"+str(np.round(BOB_ANG,4))+\" degrees\", (15, 35), cv2.FONT_HERSHEY_COMPLEX_SMALL, 0.8, (200,200,250), 1)\n",
    "            cv2.putText(IM, \"POS=\"+str(np.round(CART_POS,4))+\" m\", (15, 55), cv2.FONT_HERSHEY_COMPLEX_SMALL, 0.8, (200,200,250), 1)\n",
    "\n",
    "\n",
    "\n",
    "        return IM"
   ]
  },
  {
   "cell_type": "code",
   "execution_count": 144,
   "metadata": {},
   "outputs": [],
   "source": [
    "sys = InvertedPendulum()\n",
    "\n",
    "# Initial state\n",
    "x0 = np.array([0, 0, np.pi/6, 0.])\n",
    "\n",
    "# U = F @ x, loop and store U and x\n",
    "x = x0\n",
    "U = []\n",
    "X = []\n",
    "\n",
    "for i in range(100):\n",
    "    u = F @ x\n",
    "    x_dot = A @ x + B @ u\n",
    "    \n",
    "    x = x + x_dot * 0.01\n",
    "\n",
    "    U.append(u)\n",
    "    X.append(x)"
   ]
  },
  {
   "cell_type": "code",
   "execution_count": 145,
   "metadata": {},
   "outputs": [
    {
     "name": "stdout",
     "output_type": "stream",
     "text": [
      "Eigen values of A + BF [ 0.          0.         -0.22592405  0.22592405]\n"
     ]
    }
   ],
   "source": [
    "# print eig values of A + BF\n",
    "print(\"Eigen values of A + BF\", np.linalg.eigvals(A + B @ F))"
   ]
  },
  {
   "cell_type": "code",
   "execution_count": 147,
   "metadata": {},
   "outputs": [
    {
     "name": "stdout",
     "output_type": "stream",
     "text": [
      "0.5235987755982988\n",
      "0.5236014481342156\n",
      "0.5236067932060492\n",
      "0.5236148108274407\n",
      "0.5236255010256722\n",
      "0.523638863841667\n",
      "0.5236548993299898\n",
      "0.5236736075588464\n",
      "0.5236949886100848\n",
      "0.5237190425791949\n",
      "0.523745769575309\n",
      "0.5237751697212029\n",
      "0.5238072431532954\n",
      "0.5238419900216499\n",
      "0.5238794104899746\n",
      "0.5239195047356232\n",
      "0.5239622729495962\n",
      "0.5240077153365412\n",
      "0.5240558321147545\n",
      "0.5241066235161815\n",
      "0.5241600897864185\n",
      "0.5242162311847132\n",
      "0.5242750479839664\n",
      "0.5243365404707332\n",
      "0.5244007089452244\n",
      "0.524467553721308\n",
      "0.5245370751265107\n",
      "0.5246092735020194\n",
      "0.5246841492026829\n",
      "0.5247617025970139\n",
      "0.5248419340671906\n",
      "0.5249248440090584\n",
      "0.5250104328321321\n",
      "0.5250987009595981\n",
      "0.5251896488283161\n",
      "0.5252832768888214\n",
      "0.525379585605327\n",
      "0.5254785754557265\n",
      "0.5255802469315956\n",
      "0.525684600538195\n",
      "0.525791636794473\n",
      "0.525901356233068\n",
      "0.5260137594003109\n",
      "0.5261288468562282\n",
      "0.5262466191745443\n",
      "0.526367076942685\n",
      "0.5264902207617801\n",
      "0.526616051246666\n",
      "0.5267445690258895\n",
      "0.5268757747417104\n",
      "0.5270096690501052\n",
      "0.5271462526207696\n",
      "0.5272855261371229\n",
      "0.5274274902963102\n",
      "0.5275721458092071\n",
      "0.5277194934004223\n",
      "0.527869533808302\n",
      "0.5280222677849329\n",
      "0.5281776960961464\n",
      "0.5283358195215223\n",
      "0.5284966388543927\n",
      "0.5286601549018461\n",
      "0.5288263684847314\n",
      "0.5289952804376619\n",
      "0.5291668916090195\n",
      "0.5293412028609592\n",
      "0.5295182150694131\n",
      "0.5296979291240952\n",
      "0.5298803459285053\n",
      "0.5300654663999342\n",
      "0.5302532914694679\n",
      "0.530443822081992\n",
      "0.5306370591961975\n",
      "0.5308330037845844\n",
      "0.5310316568334674\n",
      "0.5312330193429805\n",
      "0.5314370923270821\n",
      "0.5316438768135603\n",
      "0.5318533738440376\n",
      "0.532065584473977\n",
      "0.5322805097726863\n",
      "0.532498150823324\n",
      "0.532718508722905\n",
      "0.5329415845823058\n",
      "0.5331673795262698\n",
      "0.5333958946934138\n",
      "0.5336271312362328\n",
      "0.5338610903211068\n",
      "0.5340977731283058\n",
      "0.534337180851996\n",
      "0.5345793147002463\n",
      "0.5348241758950338\n",
      "0.5350717656722503\n",
      "0.5353220852817083\n",
      "0.5355751359871476\n",
      "0.5358309190662414\n",
      "0.5360894358106029\n",
      "0.5363506875257918\n",
      "0.536614675531321\n",
      "0.536881401160663\n"
     ]
    }
   ],
   "source": [
    "syst = InvertedPendulum()\n",
    "\n",
    "for i in range(len(X)):\n",
    "    rendered = syst.step( [X[i][0], X[i][1], X[i][2], X[i][3]], t=i*0.01)\n",
    "    print(X[i][2])\n",
    "    cv2.imshow( 'im', rendered )\n",
    "\n",
    "    # Press q to exit\n",
    "\n",
    "    if cv2.waitKey(5) == ord('q'):\n",
    "        break"
   ]
  }
 ],
 "metadata": {
  "kernelspec": {
   "display_name": "Python 3",
   "language": "python",
   "name": "python3"
  },
  "language_info": {
   "codemirror_mode": {
    "name": "ipython",
    "version": 3
   },
   "file_extension": ".py",
   "mimetype": "text/x-python",
   "name": "python",
   "nbconvert_exporter": "python",
   "pygments_lexer": "ipython3",
   "version": "3.11.2"
  },
  "orig_nbformat": 4
 },
 "nbformat": 4,
 "nbformat_minor": 2
}
