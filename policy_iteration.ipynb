{
 "cells": [
  {
   "cell_type": "code",
   "execution_count": 33,
   "metadata": {},
   "outputs": [],
   "source": [
    "import numpy as np"
   ]
  },
  {
   "cell_type": "code",
   "execution_count": 34,
   "metadata": {},
   "outputs": [],
   "source": [
    "M = 20  # kg\n",
    "g = 9.8 # m / s^2\n",
    "m = 0.5 # kg\n",
    "l = 0.5 # m"
   ]
  },
  {
   "cell_type": "code",
   "execution_count": 35,
   "metadata": {},
   "outputs": [],
   "source": [
    "v1 = ((M + m) * g) / (M * l)\n",
    "v2 = -(m * g) / M\n",
    "\n",
    "c1 = -1 / (M * l)\n",
    "c2 = 1 / M"
   ]
  },
  {
   "cell_type": "code",
   "execution_count": 36,
   "metadata": {},
   "outputs": [],
   "source": [
    "A = np.array([[0, 1, 0, 0], [0, 0, v2, 0], [0, 0, 0, 1], [0, 0, v1, 0]])\n",
    "B = np.array([[0], [c2], [0], [c1]])"
   ]
  },
  {
   "cell_type": "code",
   "execution_count": 37,
   "metadata": {},
   "outputs": [
    {
     "name": "stdout",
     "output_type": "stream",
     "text": [
      "(4, 4)\n",
      "(4, 1)\n"
     ]
    }
   ],
   "source": [
    "print(np.shape(A))\n",
    "print(np.shape(B))"
   ]
  },
  {
   "attachments": {},
   "cell_type": "markdown",
   "metadata": {},
   "source": [
    "## Controllability"
   ]
  },
  {
   "attachments": {},
   "cell_type": "markdown",
   "metadata": {},
   "source": [
    "CM = [B AB A<sup>2</sup>B A<sup>3</sup>B]"
   ]
  },
  {
   "cell_type": "code",
   "execution_count": 38,
   "metadata": {},
   "outputs": [],
   "source": [
    "CM = np.array([[B], [A @ B], [A @ A @ B], [A @ A @ A @ B]]).reshape(4, 4)"
   ]
  },
  {
   "cell_type": "code",
   "execution_count": 39,
   "metadata": {},
   "outputs": [
    {
     "name": "stdout",
     "output_type": "stream",
     "text": [
      "[[ 0.      0.05    0.     -0.1   ]\n",
      " [ 0.05    0.     -0.1     0.    ]\n",
      " [ 0.      0.0245  0.     -2.009 ]\n",
      " [ 0.0245  0.     -2.009   0.    ]]\n"
     ]
    }
   ],
   "source": [
    "print((CM))"
   ]
  },
  {
   "cell_type": "code",
   "execution_count": 40,
   "metadata": {},
   "outputs": [
    {
     "name": "stdout",
     "output_type": "stream",
     "text": [
      "Rank of CM:  4\n"
     ]
    }
   ],
   "source": [
    "rank = np.linalg.matrix_rank(CM)\n",
    "print(\"Rank of CM: \", rank)"
   ]
  },
  {
   "attachments": {},
   "cell_type": "markdown",
   "metadata": {},
   "source": [
    "> Rank of CM = 4, therefore controllable"
   ]
  },
  {
   "attachments": {},
   "cell_type": "markdown",
   "metadata": {},
   "source": [
    "## Stability\n"
   ]
  },
  {
   "cell_type": "code",
   "execution_count": 41,
   "metadata": {},
   "outputs": [
    {
     "name": "stdout",
     "output_type": "stream",
     "text": [
      "[[ 0.     1.     0.     0.   ]\n",
      " [ 0.     0.    -0.245  0.   ]\n",
      " [ 0.     0.     0.     1.   ]\n",
      " [ 0.     0.    20.09   0.   ]]\n"
     ]
    }
   ],
   "source": [
    "print(A)"
   ]
  },
  {
   "cell_type": "code",
   "execution_count": 42,
   "metadata": {},
   "outputs": [
    {
     "name": "stdout",
     "output_type": "stream",
     "text": [
      "Eigenvalues of matrix A: [ 0.          0.          4.48218697 -4.48218697]\n"
     ]
    }
   ],
   "source": [
    "eigenvalues = np.linalg.eigvals(A)\n",
    "\n",
    "print(\"Eigenvalues of matrix A:\", eigenvalues)"
   ]
  },
  {
   "attachments": {},
   "cell_type": "markdown",
   "metadata": {},
   "source": [
    ">One eigen value is positive, so the system is unstable"
   ]
  },
  {
   "attachments": {},
   "cell_type": "markdown",
   "metadata": {},
   "source": [
    "## Policy Iteration\n"
   ]
  },
  {
   "cell_type": "code",
   "execution_count": 43,
   "metadata": {},
   "outputs": [],
   "source": [
    "Q = np.diag([100, 100, 1, 1])\n",
    "R = np.array([[0.1]])\n"
   ]
  },
  {
   "cell_type": "code",
   "execution_count": 44,
   "metadata": {},
   "outputs": [
    {
     "name": "stdout",
     "output_type": "stream",
     "text": [
      "A:\n",
      " [[ 0.     1.     0.     0.   ]\n",
      " [ 0.     0.    -0.245  0.   ]\n",
      " [ 0.     0.     0.     1.   ]\n",
      " [ 0.     0.    20.09   0.   ]]\n",
      "B:\n",
      " [[ 0.  ]\n",
      " [ 0.05]\n",
      " [ 0.  ]\n",
      " [-0.1 ]]\n"
     ]
    }
   ],
   "source": [
    "print(\"A:\\n\", A)\n",
    "print(\"B:\\n\", B)"
   ]
  },
  {
   "cell_type": "code",
   "execution_count": 49,
   "metadata": {},
   "outputs": [
    {
     "name": "stdout",
     "output_type": "stream",
     "text": [
      "Closed-loop system is stable\n"
     ]
    }
   ],
   "source": [
    "import control\n",
    "# Define the desired closed-loop poles\n",
    "desired_poles = np.array([ 0. , 9.63475861 ,-0.05825404, -4.48258043])\n",
    "\n",
    "# Compute the feedback gain matrix F that places the closed-loop poles at the desired locations\n",
    "F = control.place(A, B, desired_poles)\n",
    "\n",
    "# Check if the closed-loop system is stable\n",
    "if np.all(np.real(np.linalg.eigvals(A + B @ F)) < 0):\n",
    "    print(\"Closed-loop system is stable\")\n",
    "else:\n",
    "    print(\"Closed-loop system is unstable\")\n"
   ]
  },
  {
   "cell_type": "code",
   "execution_count": 46,
   "metadata": {},
   "outputs": [
    {
     "name": "stdout",
     "output_type": "stream",
     "text": [
      "[[8.68269917e-14 2.56725438e+00 2.33987156e+02 5.22228686e+01]]\n",
      "Eigenvalues of A + BF: [-3.37507799e-14+0.j         -4.48081445e+00+0.j\n",
      " -3.06554846e-01+0.68374626j -3.06554846e-01-0.68374626j]\n"
     ]
    }
   ],
   "source": [
    "print(F)\n",
    "print(\"Eigenvalues of A + BF:\", np.linalg.eigvals(A + B @ F))"
   ]
  },
  {
   "attachments": {},
   "cell_type": "markdown",
   "metadata": {},
   "source": [
    "## Hewer's Algorithm"
   ]
  },
  {
   "cell_type": "code",
   "execution_count": null,
   "metadata": {},
   "outputs": [],
   "source": [
    "from scipy.linalg import solve_continuous_are\n",
    "\n",
    "def initial_guess(Q, R, A, B):\n",
    "    # compute initial guess based on time-invariant ARE\n",
    "    P0 = np.zeros_like(Q)\n",
    "    max_iter = 1000\n",
    "    tol = 1e-6\n",
    "    for i in range(max_iter):\n",
    "        P_new = Q + (A @ P0 @ A.T - A @ P0 @ B @ np.linalg.inv(R + B.T @ P0 @ B) @ B.T @ P0 @ A.T)\n",
    "        if np.allclose(P0, P_new, rtol=tol, atol=tol):\n",
    "            break\n",
    "        P0 = P_new.copy()\n",
    "    return P0\n",
    "\n",
    "def policy_iteration(A, B, Q, R, F):\n",
    "    # solve for P\n",
    "    P0 = initial_guess(Q, R, A, B)\n",
    "    max_iter = 1000  # maximum number of iterations\n",
    "    tol = 1e-6  # tolerance for convergence\n",
    "    F0 = -np.linalg.inv(R + B.T @ P0 @ B) @ B.T @ P0 @ A  # initial guess for F\n",
    "\n",
    "    P = P0.copy()\n",
    "    F = F0.copy()\n",
    "    for i in range(max_iter):\n",
    "        # print current iteration\n",
    "        print(\"Iteration: \", i)\n",
    "        # solve for P , P = Q + F.T @ R @ F + (A + B @ F).T @ P @ (A + B @ F) + F.T @ B.T @ P @ (A + B @ F) + (A + B @ F).T @ P @ B @ F in a loop\n",
    "        # choose random P at first and then loop till the eq converges\n",
    "        for j in range(1000):\n",
    "            P_new = Q + F.T @ R @ F + (A + B @ F).T @ P @ (A + B @ F) + F.T @ B.T @ P @ (A + B @ F) + (A + B @ F).T @ P @ B @ F\n",
    "            if np.allclose(P, P_new, rtol=tol, atol=tol):\n",
    "                break\n",
    "            P = P_new.copy()\n",
    "        \n",
    "        F = -np.linalg.inv(R + B.T @ P @ B) @ B.T @ P @ A\n",
    "\n",
    "    return F\n",
    "\n",
    "    \n",
    "\n",
    " \n",
    "F = policy_iteration(A, B, Q, R, F)\n",
    "\n",
    "print(\"F\", F)"
   ]
  },
  {
   "cell_type": "code",
   "execution_count": 51,
   "metadata": {},
   "outputs": [
    {
     "name": "stdout",
     "output_type": "stream",
     "text": [
      "Eigenvalues of A + BF: [-3.37507799e-14+0.j         -4.48081445e+00+0.j\n",
      " -3.06554846e-01+0.68374626j -3.06554846e-01-0.68374626j]\n"
     ]
    }
   ],
   "source": [
    "print(\"Eigenvalues of A + BF:\", np.linalg.eigvals(A + B @ F))"
   ]
  },
  {
   "cell_type": "code",
   "execution_count": 52,
   "metadata": {},
   "outputs": [
    {
     "name": "stdout",
     "output_type": "stream",
     "text": [
      "Closed-loop system is stable\n"
     ]
    }
   ],
   "source": [
    "import control\n",
    "# Define the desired closed-loop poles\n",
    "desired_poles = np.array([ 0. , 9.63475861 ,-0.05825404, -4.48258043])\n",
    "\n",
    "# Compute the feedback gain matrix F that places the closed-loop poles at the desired locations\n",
    "F = control.place(A, B, desired_poles)\n",
    "\n",
    "# Check if the closed-loop system is stable\n",
    "if np.all(np.real(np.linalg.eigvals(A + B @ F)) < 0):\n",
    "    print(\"Closed-loop system is stable\")\n",
    "else:\n",
    "    print(\"Closed-loop system is unstable\")"
   ]
  },
  {
   "cell_type": "code",
   "execution_count": 53,
   "metadata": {},
   "outputs": [],
   "source": [
    "import cv2\n",
    "\n",
    "class InvertedPendulum:\n",
    "    def __init__(self):\n",
    "        f = 0\n",
    "\n",
    "    def step( self, state_vec, t=None ):\n",
    "        \"\"\" state vector :\n",
    "                x0 : position of the cart\n",
    "                x1 : veclocity of the cart\n",
    "                x2 : angle of pendulum. In ref frame with x as forward of the cart and y as up. Angile with respect to ground plane\n",
    "                x3 : angular velocity of the pendulum\n",
    "        \"\"\"\n",
    "        CART_POS = state_vec[0]\n",
    "        BOB_ANG  = state_vec[2]*180. / np.pi  # degrees\n",
    "        # subtract bob angle from 90 to get angle wrt vertical\n",
    "        LENGTH_OF_PENDULUM = 110.\n",
    "\n",
    "        # IM = np.zeros( (512, 512,3), dtype='uint8' )\n",
    "        IM = cv2.imread('imgs/background.jpg')\n",
    "        IM = cv2.resize( IM, (512,512) )\n",
    "\n",
    "        # Ground line\n",
    "        cv2.line(IM, (0, 450), (IM.shape[1], 450), (0,0,40), 4 )\n",
    "\n",
    "\n",
    "        # Mark ground line\n",
    "        XSTART = -30.\n",
    "        XEND = 5.\n",
    "        for xd in np.linspace( XSTART, XEND, 11 ):\n",
    "            x = int(   (xd - XSTART) / (XEND - XSTART) * IM.shape[0]   )\n",
    "\n",
    "            cv2.circle( IM, (x, 450), 5, (255,0,255), -1 )\n",
    "\n",
    "            cv2.putText(IM, str(xd), (x-15,450+15), cv2.FONT_HERSHEY_COMPLEX_SMALL, 0.8, (255, 255, 200), 1)\n",
    "\n",
    "\n",
    "        # Draw Wheels of the cart\n",
    "        wheel_1_pos = int(   (CART_POS - 3 - XSTART) / (XEND - XSTART) * IM.shape[0]   )\n",
    "        wheel_2_pos = int(   (CART_POS + 3 - XSTART) / (XEND - XSTART) * IM.shape[0]   )\n",
    "\n",
    "        cv2.circle( IM, (wheel_1_pos, 415), 25, (0,255,255), 6 )\n",
    "        cv2.circle( IM, (wheel_2_pos, 415), 25, (0,255,255), 6 )\n",
    "        cv2.circle( IM, (wheel_1_pos, 415), 2, (0,255,255), -1 )\n",
    "        cv2.circle( IM, (wheel_2_pos, 415), 2, (0,255,255), -1 )\n",
    "\n",
    "        # Cart base\n",
    "        cart_base_start = int(   (CART_POS - 4 - XSTART) / (XEND - XSTART) * IM.shape[0]   )\n",
    "        cart_base_end   = int(   (CART_POS + 4 - XSTART) / (XEND - XSTART) * IM.shape[0]   )\n",
    "\n",
    "        cv2.line( IM, (cart_base_start, 380), (cart_base_end, 380), (255,10,200), 6 )\n",
    "\n",
    "        # Pendulum hinge\n",
    "        pendulum_hinge_x = int(   (CART_POS - XSTART) / (XEND - XSTART) * IM.shape[0]   )\n",
    "        pendulum_hinge_y = 380\n",
    "        cv2.circle( IM, (pendulum_hinge_x, pendulum_hinge_y), 10, (200,150,10), -1 )\n",
    "\n",
    "\n",
    "        # Pendulum\n",
    "        pendulum_bob_x = int( LENGTH_OF_PENDULUM * np.cos( BOB_ANG / 180. * np.pi ) )\n",
    "        pendulum_bob_y = int( LENGTH_OF_PENDULUM * np.sin( BOB_ANG / 180. * np.pi ) )\n",
    "        cv2.circle( IM, (pendulum_hinge_x+pendulum_bob_x, pendulum_hinge_y-pendulum_bob_y), 10, (255,100,255), -1 )\n",
    "        cv2.line( IM, (pendulum_hinge_x, pendulum_hinge_y), (pendulum_hinge_x+pendulum_bob_x, pendulum_hinge_y-pendulum_bob_y), (100,200,255), 3 )\n",
    "\n",
    "        # Mark the current angle\n",
    "        angle_display = BOB_ANG % 360\n",
    "        if( angle_display > 180 ):\n",
    "            angle_display = -360+angle_display\n",
    "        cv2.putText(IM, \"theta=\"+str( np.round(angle_display,4) )+\" deg\", (pendulum_hinge_x-15, pendulum_hinge_y-15), cv2.FONT_HERSHEY_COMPLEX_SMALL, 0.8, (200,200,250), 1)\n",
    "\n",
    "\n",
    "        # Display on top\n",
    "        if t is not None:\n",
    "            cv2.putText(IM, \"t=\"+str(np.round(t,4))+\"sec\", (15, 15), cv2.FONT_HERSHEY_COMPLEX_SMALL, 0.8, (200,200,0), 1)\n",
    "            cv2.putText(IM, \"ANG=\"+str(np.round((BOB_ANG),4))+\" degrees\", (15, 35), cv2.FONT_HERSHEY_COMPLEX_SMALL, 0.8, (200,200,0), 1)\n",
    "            cv2.putText(IM, \"POS=\"+str(np.round(CART_POS,4))+\" m\", (15, 55), cv2.FONT_HERSHEY_COMPLEX_SMALL, 0.8, (200,200,0), 1)\n",
    "\n",
    "        return IM"
   ]
  },
  {
   "cell_type": "code",
   "execution_count": null,
   "metadata": {},
   "outputs": [],
   "source": [
    "# Define the initial value for theta\n",
    "theta_0 = np.pi/6\n",
    "\n",
    "# Define the state vector x and the control input u\n",
    "x = np.array([[0], [0], [theta_0], [0]])\n",
    "u = 0\n",
    "\n",
    "# Define the cost function weights Q and R\n",
    "Q = np.diag([100, 100, 1, 1])   # higher weight on theta for control input stability\n",
    "R = np.array([[0.1]])\n",
    "\n",
    "# Compute the optimal gain matrix K using the ARE\n",
    "P = solve_continuous_are(A, B, Q, R) # solves the continuous algebraic Riccati equation\n",
    "K = np.linalg.inv(R + B.T @ P @ B) @ (B.T @ P @ A)\n",
    "\n",
    "# Simulate the system with the computed gain matrix K\n",
    "t0, tf = 0, 50    # initial and final simulation time\n",
    "dt = 0.01     # time step\n",
    "t = np.arange(t0, tf, dt)\n",
    "x_history = np.zeros((4, len(t)))\n",
    "x_history[:, 0] = x[:, 0]\n",
    "U = []\n",
    "\n",
    "for i in range(1, len(t)):\n",
    "    # Compute the control input using the optimal gain matrix K\n",
    "    u = -F @ x\n",
    "    U.append(u)\n",
    "\n",
    "    # Update the state using the system dynamics\n",
    "    x_dot = A @ x + B @ u\n",
    "    \n",
    "    x[0] = x[0] - x_dot[0] * dt\n",
    "    x[1] = x[1] + x_dot[1] * dt\n",
    "    x[2] = x[2] + x_dot[2] * dt\n",
    "    x[3] = x[3] + x_dot[3] * dt\n",
    "\n",
    "    # Save the state history\n",
    "    x_history[:, i] = x[:, 0]\n",
    "\n",
    "# Plot the state history\n",
    "import matplotlib.pyplot as plt\n",
    "\n",
    "plt.figure()\n",
    "plt.plot(t, x_history[0, :], label='x')\n",
    "plt.plot(t, x_history[1, :], label='xdot')\n",
    "plt.plot(t, x_history[2, :], label='theta')\n",
    "plt.plot(t, x_history[3, :], label='thetadot')\n",
    "plt.legend()\n",
    "plt.xlabel('Time (s)')\n",
    "plt.ylabel('State')\n",
    "plt.show()"
   ]
  },
  {
   "cell_type": "code",
   "execution_count": 55,
   "metadata": {},
   "outputs": [
    {
     "name": "stdout",
     "output_type": "stream",
     "text": [
      "Eigen values of A + BF [-3.37507799e-14+0.j         -4.48081445e+00+0.j\n",
      " -3.06554846e-01+0.68374626j -3.06554846e-01-0.68374626j]\n"
     ]
    }
   ],
   "source": [
    "# print eig values of A + BF\n",
    "print(\"Eigen values of A + BF\", np.linalg.eigvals(A + B @ F))"
   ]
  },
  {
   "cell_type": "code",
   "execution_count": 56,
   "metadata": {},
   "outputs": [
    {
     "name": "stdout",
     "output_type": "stream",
     "text": [
      "[[8.68269917e-14 2.56725438e+00 2.33987156e+02 5.22228686e+01]]\n",
      "(5000,)\n",
      "(5000,)\n"
     ]
    }
   ],
   "source": [
    "# append 0 to first element of U\n",
    "U = np.insert(U, 0, 0)\n",
    "U = np.array(U).reshape(5000, 1)\n",
    "\n",
    "print(F)\n",
    "\n",
    "X = x_history\n",
    "\n",
    "U = U.reshape(5000, )\n",
    "X = np.array(X).reshape(4, 5000)\n",
    "x1 = X[0].reshape(5000, )\n",
    "x2 = X[1].reshape(5000, )\n",
    "x3 = X[2].reshape(5000, )\n",
    "x4 = X[3].reshape(5000, )\n",
    "\n",
    "print(np.shape(U))\n",
    "print(np.shape(x1))"
   ]
  },
  {
   "cell_type": "code",
   "execution_count": null,
   "metadata": {},
   "outputs": [],
   "source": [
    "import pandas as pd\n",
    "\n",
    "df = pd.DataFrame({'x': x1, 'xdot': x2, 'theta': x3, 'thetadot': x4, 'u': U}, )\n",
    "# print df with style\n",
    "# print(df)\n",
    "print(min(U))\n",
    "df"
   ]
  },
  {
   "cell_type": "code",
   "execution_count": null,
   "metadata": {},
   "outputs": [],
   "source": [
    "syst = InvertedPendulum()\n",
    "\n",
    "for i in range(len(X[0])):\n",
    "    rendered = syst.step( [X[0][i], X[1][i], X[2][i] + np.pi/2, X[3][i]], t=i*0.01)\n",
    "    cv2.imshow( 'im', rendered )\n",
    "\n",
    "    # Press q to exit\n",
    "\n",
    "    if cv2.waitKey(5) == ord('q'):\n",
    "        break\n",
    "\n",
    "cv2.destroyAllWindows()"
   ]
  },
  {
   "cell_type": "code",
   "execution_count": 59,
   "metadata": {},
   "outputs": [],
   "source": [
    "cv2.destroyAllWindows()\n",
    "\n"
   ]
  }
 ],
 "metadata": {
  "kernelspec": {
   "display_name": "Python 3",
   "language": "python",
   "name": "python3"
  },
  "language_info": {
   "codemirror_mode": {
    "name": "ipython",
    "version": 3
   },
   "file_extension": ".py",
   "mimetype": "text/x-python",
   "name": "python",
   "nbconvert_exporter": "python",
   "pygments_lexer": "ipython3",
   "version": "3.11.2"
  },
  "orig_nbformat": 4
 },
 "nbformat": 4,
 "nbformat_minor": 2
}
