{
 "cells": [
  {
   "cell_type": "code",
   "execution_count": 7,
   "metadata": {},
   "outputs": [],
   "source": [
    "import numpy as np"
   ]
  },
  {
   "cell_type": "code",
   "execution_count": 8,
   "metadata": {},
   "outputs": [],
   "source": [
    "M = 20  # kg\n",
    "g = 9.8 # m / s^2\n",
    "m = 0.5 # kg\n",
    "l = 0.5 # m"
   ]
  },
  {
   "cell_type": "code",
   "execution_count": 9,
   "metadata": {},
   "outputs": [],
   "source": [
    "v1 = ((M + m) * g) / (M * l)\n",
    "v2 = -(m * g) / M\n",
    "\n",
    "c1 = -1 / (M * l)\n",
    "c2 = 1 / M"
   ]
  },
  {
   "cell_type": "code",
   "execution_count": 10,
   "metadata": {},
   "outputs": [],
   "source": [
    "A = np.array([[0, 1, 0, 0], [v1, 0, 0, 0], [0, 0, 0, 1], [v2, 0, 0, 0]])\n",
    "B = np.array([[0], [c1], [0], [c2]])"
   ]
  },
  {
   "cell_type": "code",
   "execution_count": 13,
   "metadata": {},
   "outputs": [
    {
     "name": "stdout",
     "output_type": "stream",
     "text": [
      "(4, 4)\n",
      "(4, 1)\n"
     ]
    }
   ],
   "source": [
    "print(np.shape(A))\n",
    "print(np.shape(B))"
   ]
  },
  {
   "attachments": {},
   "cell_type": "markdown",
   "metadata": {},
   "source": [
    "## Controllability"
   ]
  },
  {
   "attachments": {},
   "cell_type": "markdown",
   "metadata": {},
   "source": [
    "CM = [B AB A<sup>2</sup>B A<sup>3</sup>B]"
   ]
  },
  {
   "cell_type": "code",
   "execution_count": 23,
   "metadata": {},
   "outputs": [],
   "source": [
    "CM = np.array([[B], [A @ B], [A @ A @ B], [A @ A @ A @ B]]).reshape(4, 4)"
   ]
  },
  {
   "cell_type": "code",
   "execution_count": 24,
   "metadata": {},
   "outputs": [
    {
     "name": "stdout",
     "output_type": "stream",
     "text": [
      "[[ 0.     -0.1     0.      0.05  ]\n",
      " [-0.1     0.      0.05    0.    ]\n",
      " [ 0.     -2.009   0.      0.0245]\n",
      " [-2.009   0.      0.0245  0.    ]]\n"
     ]
    }
   ],
   "source": [
    "print((CM))"
   ]
  },
  {
   "cell_type": "code",
   "execution_count": 25,
   "metadata": {},
   "outputs": [
    {
     "name": "stdout",
     "output_type": "stream",
     "text": [
      "Rank of CM:  4\n"
     ]
    }
   ],
   "source": [
    "rank = np.linalg.matrix_rank(CM)\n",
    "print(\"Rank of CM: \", rank)"
   ]
  },
  {
   "attachments": {},
   "cell_type": "markdown",
   "metadata": {},
   "source": [
    "> Rank of CM = 4, therefore controllable"
   ]
  },
  {
   "attachments": {},
   "cell_type": "markdown",
   "metadata": {},
   "source": [
    "## Stability\n"
   ]
  },
  {
   "cell_type": "code",
   "execution_count": 26,
   "metadata": {},
   "outputs": [
    {
     "name": "stdout",
     "output_type": "stream",
     "text": [
      "Eigenvalues of matrix A: [ 0.          0.          4.48218697 -4.48218697]\n"
     ]
    }
   ],
   "source": [
    "eigenvalues = np.linalg.eigvals(A)\n",
    "\n",
    "print(\"Eigenvalues of matrix A:\", eigenvalues)"
   ]
  },
  {
   "attachments": {},
   "cell_type": "markdown",
   "metadata": {},
   "source": [
    ">One eigen value is positive, so the system is unstable"
   ]
  }
 ],
 "metadata": {
  "kernelspec": {
   "display_name": "Python 3",
   "language": "python",
   "name": "python3"
  },
  "language_info": {
   "codemirror_mode": {
    "name": "ipython",
    "version": 3
   },
   "file_extension": ".py",
   "mimetype": "text/x-python",
   "name": "python",
   "nbconvert_exporter": "python",
   "pygments_lexer": "ipython3",
   "version": "3.11.2"
  },
  "orig_nbformat": 4
 },
 "nbformat": 4,
 "nbformat_minor": 2
}
