{
 "cells": [
  {
   "cell_type": "code",
   "execution_count": 16,
   "metadata": {},
   "outputs": [],
   "source": [
    "import numpy as np"
   ]
  },
  {
   "cell_type": "code",
   "execution_count": 17,
   "metadata": {},
   "outputs": [],
   "source": [
    "M = 20  # kg\n",
    "g = 9.8 # m / s^2\n",
    "m = 0.5 # kg\n",
    "l = 0.5 # m"
   ]
  },
  {
   "cell_type": "code",
   "execution_count": 18,
   "metadata": {},
   "outputs": [],
   "source": [
    "v1 = ((M + m) * g) / (M * l)\n",
    "v2 = -(m * g) / M\n",
    "\n",
    "c1 = -1 / (M * l)\n",
    "c2 = 1 / M"
   ]
  },
  {
   "cell_type": "code",
   "execution_count": 19,
   "metadata": {},
   "outputs": [],
   "source": [
    "A = np.array([[0, 1, 0, 0], [0, 0, v2, 0], [0, 0, 0, 1], [0, 0, v1, 0]])\n",
    "B = np.array([[0], [c2], [0], [c1]])"
   ]
  },
  {
   "cell_type": "code",
   "execution_count": 20,
   "metadata": {},
   "outputs": [
    {
     "name": "stdout",
     "output_type": "stream",
     "text": [
      "(4, 4)\n",
      "(4, 1)\n"
     ]
    }
   ],
   "source": [
    "print(np.shape(A))\n",
    "print(np.shape(B))"
   ]
  },
  {
   "attachments": {},
   "cell_type": "markdown",
   "metadata": {},
   "source": [
    "## Controllability"
   ]
  },
  {
   "attachments": {},
   "cell_type": "markdown",
   "metadata": {},
   "source": [
    "CM = [B AB A<sup>2</sup>B A<sup>3</sup>B]"
   ]
  },
  {
   "cell_type": "code",
   "execution_count": 21,
   "metadata": {},
   "outputs": [],
   "source": [
    "CM = np.array([[B], [A @ B], [A @ A @ B], [A @ A @ A @ B]]).reshape(4, 4)"
   ]
  },
  {
   "cell_type": "code",
   "execution_count": 22,
   "metadata": {},
   "outputs": [
    {
     "name": "stdout",
     "output_type": "stream",
     "text": [
      "[[ 0.      0.05    0.     -0.1   ]\n",
      " [ 0.05    0.     -0.1     0.    ]\n",
      " [ 0.      0.0245  0.     -2.009 ]\n",
      " [ 0.0245  0.     -2.009   0.    ]]\n"
     ]
    }
   ],
   "source": [
    "print((CM))"
   ]
  },
  {
   "cell_type": "code",
   "execution_count": 23,
   "metadata": {},
   "outputs": [
    {
     "name": "stdout",
     "output_type": "stream",
     "text": [
      "Rank of CM:  4\n"
     ]
    }
   ],
   "source": [
    "rank = np.linalg.matrix_rank(CM)\n",
    "print(\"Rank of CM: \", rank)"
   ]
  },
  {
   "attachments": {},
   "cell_type": "markdown",
   "metadata": {},
   "source": [
    "> Rank of CM = 4, therefore controllable"
   ]
  },
  {
   "attachments": {},
   "cell_type": "markdown",
   "metadata": {},
   "source": [
    "## Stability\n"
   ]
  },
  {
   "cell_type": "code",
   "execution_count": 24,
   "metadata": {},
   "outputs": [
    {
     "name": "stdout",
     "output_type": "stream",
     "text": [
      "[[ 0.     1.     0.     0.   ]\n",
      " [ 0.     0.    -0.245  0.   ]\n",
      " [ 0.     0.     0.     1.   ]\n",
      " [ 0.     0.    20.09   0.   ]]\n"
     ]
    }
   ],
   "source": [
    "print(A)"
   ]
  },
  {
   "cell_type": "code",
   "execution_count": 25,
   "metadata": {},
   "outputs": [
    {
     "name": "stdout",
     "output_type": "stream",
     "text": [
      "Eigenvalues of matrix A: [ 0.          0.          4.48218697 -4.48218697]\n"
     ]
    }
   ],
   "source": [
    "eigenvalues = np.linalg.eigvals(A)\n",
    "\n",
    "print(\"Eigenvalues of matrix A:\", eigenvalues)"
   ]
  },
  {
   "attachments": {},
   "cell_type": "markdown",
   "metadata": {},
   "source": [
    ">One eigen value is positive, so the system is unstable"
   ]
  },
  {
   "attachments": {},
   "cell_type": "markdown",
   "metadata": {},
   "source": [
    "## Value Iteration\n"
   ]
  },
  {
   "cell_type": "code",
   "execution_count": 26,
   "metadata": {},
   "outputs": [],
   "source": [
    "Q = np.diag([100, 100, 1, 1])\n",
    "R = np.array([[0.1]])\n"
   ]
  },
  {
   "cell_type": "code",
   "execution_count": 27,
   "metadata": {},
   "outputs": [
    {
     "name": "stdout",
     "output_type": "stream",
     "text": [
      "A:\n",
      " [[ 0.     1.     0.     0.   ]\n",
      " [ 0.     0.    -0.245  0.   ]\n",
      " [ 0.     0.     0.     1.   ]\n",
      " [ 0.     0.    20.09   0.   ]]\n",
      "B:\n",
      " [[ 0.  ]\n",
      " [ 0.05]\n",
      " [ 0.  ]\n",
      " [-0.1 ]]\n"
     ]
    }
   ],
   "source": [
    "print(\"A:\\n\", A)\n",
    "print(\"B:\\n\", B)"
   ]
  },
  {
   "cell_type": "code",
   "execution_count": 28,
   "metadata": {},
   "outputs": [
    {
     "name": "stdout",
     "output_type": "stream",
     "text": [
      "Closed-loop system is stable\n"
     ]
    }
   ],
   "source": [
    "import control\n",
    "# Define the desired closed-loop poles\n",
    "desired_poles = np.array([ -0.1 , 9.63 ,-0.058, -4.48])\n",
    "\n",
    "# Compute the feedback gain matrix F that places the closed-loop poles at the desired locations\n",
    "F = control.place(A, B, desired_poles)\n",
    "\n",
    "# Check if the closed-loop system is stable\n",
    "if np.all(np.real(np.linalg.eigvals(A + B @ F)) < 0):\n",
    "    print(\"Closed-loop system is stable\")\n",
    "else:\n",
    "    print(\"Closed-loop system is unstable\")\n"
   ]
  },
  {
   "cell_type": "code",
   "execution_count": 29,
   "metadata": {},
   "outputs": [
    {
     "name": "stdout",
     "output_type": "stream",
     "text": [
      "[[  0.25533257   6.98609102 238.73066629  53.41304551]]\n"
     ]
    }
   ],
   "source": [
    "print(F)"
   ]
  },
  {
   "cell_type": "code",
   "execution_count": 31,
   "metadata": {},
   "outputs": [
    {
     "name": "stdout",
     "output_type": "stream",
     "text": [
      "Iteration:  0\n",
      "P [[  100.             0.             0.             0.        ]\n",
      " [    0.           104.20142881    18.54622787    32.36277856]\n",
      " [    0.            18.54622787  1565.8915177  -7888.40601062]\n",
      " [    0.            32.36277856 -7888.40601062  2355.70286516]]\n",
      "F [[  0.           0.         199.22867098 -33.47338778]]\n",
      "F [[  0.           0.         199.22867098 -33.47338778]]\n"
     ]
    }
   ],
   "source": [
    "def value_iteration(A, B, Q, R, F):\n",
    "    # solve for P\n",
    "    # some random positive P0\n",
    "    P0 = np.array([[   4.20142881,    8.32600202,   32.36519315,    7.32527867],\n",
    "               [   8.32600202,   31.67853401,  128.65477625,   29.12535147],\n",
    "               [  32.36519315,  128.65477625, 2355.4036579,   523.25286389],\n",
    "               [   7.32527867,   29.12535147,  523.25286389,  116.91040301]])\n",
    "\n",
    "    P = P0.copy()\n",
    "\n",
    "\n",
    "    max_iter = 1\n",
    "\n",
    "    for i in range(max_iter):\n",
    "        # print current iteration\n",
    "        print(\"Iteration: \", i)\n",
    "        # solve for P(i + 1) , P(i + 1) = Q + F.T @ R @ F + (A + B @ F).T @ Pi @ (A + B @ F) + F.T @ B.T @ Pi @ (A + B @ F) + (A + B @ F).T @ Pi @ B @ F in a loop\n",
    "        P_new = Q + F.T @ R @ F + (A + B @ F).T @ P @ (A + B @ F) + F.T @ B.T @ P @ (A + B @ F) + (A + B @ F).T @ P @ B @ F\n",
    "        P = P_new.copy()\n",
    "        \n",
    "        F = -np.linalg.inv(R + B.T @ P @ B) @ B.T @ P @ A\n",
    "\n",
    "        print(\"P\", P)\n",
    "        print(\"F\", F)\n",
    "    \n",
    "    \n",
    "\n",
    "    return F\n",
    "\n",
    " \n",
    "F = value_iteration(A, B, Q, R, F)\n",
    "\n",
    "print(\"F\", F)"
   ]
  },
  {
   "cell_type": "code",
   "execution_count": 32,
   "metadata": {},
   "outputs": [
    {
     "name": "stdout",
     "output_type": "stream",
     "text": [
      "Eigenvalues of A + BF: [ 0.          0.         -0.04920673  3.39654551]\n"
     ]
    }
   ],
   "source": [
    "print(\"Eigenvalues of A + BF:\", np.linalg.eigvals(A + B @ F))"
   ]
  },
  {
   "cell_type": "code",
   "execution_count": 33,
   "metadata": {},
   "outputs": [
    {
     "name": "stdout",
     "output_type": "stream",
     "text": [
      "Closed-loop system is stable\n"
     ]
    }
   ],
   "source": [
    "import control\n",
    "# Define the desired closed-loop poles\n",
    "desired_poles = np.array([ 0. , 9.63475861 ,-0.05825404, -4.48258043])\n",
    "\n",
    "# Compute the feedback gain matrix F that places the closed-loop poles at the desired locations\n",
    "F = control.place(A, B, desired_poles)\n",
    "\n",
    "# Check if the closed-loop system is stable\n",
    "if np.all(np.real(np.linalg.eigvals(A + B @ F)) < 0):\n",
    "    print(\"Closed-loop system is stable\")\n",
    "else:\n",
    "    print(\"Closed-loop system is unstable\")"
   ]
  },
  {
   "cell_type": "code",
   "execution_count": 34,
   "metadata": {},
   "outputs": [],
   "source": [
    "import cv2\n",
    "\n",
    "class InvertedPendulum:\n",
    "    def __init__(self):\n",
    "        f = 0\n",
    "\n",
    "    def step( self, state_vec, t=None ):\n",
    "        \"\"\" state vector :\n",
    "                x0 : position of the cart\n",
    "                x1 : veclocity of the cart\n",
    "                x2 : angle of pendulum. In ref frame with x as forward of the cart and y as up. Angile with respect to ground plane\n",
    "                x3 : angular velocity of the pendulum\n",
    "        \"\"\"\n",
    "        CART_POS = state_vec[0]\n",
    "        BOB_ANG  = state_vec[2]*180. / np.pi  # degrees\n",
    "        # subtract bob angle from 90 to get angle wrt vertical\n",
    "        LENGTH_OF_PENDULUM = 110.\n",
    "\n",
    "        # IM = np.zeros( (512, 512,3), dtype='uint8' )\n",
    "        IM = cv2.imread('imgs/background.jpg')\n",
    "        IM = cv2.resize( IM, (512,512) )\n",
    "\n",
    "        # Ground line\n",
    "        cv2.line(IM, (0, 450), (IM.shape[1], 450), (0,0,40), 4 )\n",
    "\n",
    "\n",
    "        # Mark ground line\n",
    "        XSTART = -30.\n",
    "        XEND = 5.\n",
    "        for xd in np.linspace( XSTART, XEND, 11 ):\n",
    "            x = int(   (xd - XSTART) / (XEND - XSTART) * IM.shape[0]   )\n",
    "\n",
    "            cv2.circle( IM, (x, 450), 5, (255,0,255), -1 )\n",
    "\n",
    "            cv2.putText(IM, str(xd), (x-15,450+15), cv2.FONT_HERSHEY_COMPLEX_SMALL, 0.8, (255, 255, 200), 1)\n",
    "\n",
    "\n",
    "        # Draw Wheels of the cart\n",
    "        wheel_1_pos = int(   (CART_POS - 3 - XSTART) / (XEND - XSTART) * IM.shape[0]   )\n",
    "        wheel_2_pos = int(   (CART_POS + 3 - XSTART) / (XEND - XSTART) * IM.shape[0]   )\n",
    "\n",
    "        cv2.circle( IM, (wheel_1_pos, 415), 25, (0,255,255), 6 )\n",
    "        cv2.circle( IM, (wheel_2_pos, 415), 25, (0,255,255), 6 )\n",
    "        cv2.circle( IM, (wheel_1_pos, 415), 2, (0,255,255), -1 )\n",
    "        cv2.circle( IM, (wheel_2_pos, 415), 2, (0,255,255), -1 )\n",
    "\n",
    "        # Cart base\n",
    "        cart_base_start = int(   (CART_POS - 4 - XSTART) / (XEND - XSTART) * IM.shape[0]   )\n",
    "        cart_base_end   = int(   (CART_POS + 4 - XSTART) / (XEND - XSTART) * IM.shape[0]   )\n",
    "\n",
    "        cv2.line( IM, (cart_base_start, 380), (cart_base_end, 380), (255,10,200), 6 )\n",
    "\n",
    "        # Pendulum hinge\n",
    "        pendulum_hinge_x = int(   (CART_POS - XSTART) / (XEND - XSTART) * IM.shape[0]   )\n",
    "        pendulum_hinge_y = 380\n",
    "        cv2.circle( IM, (pendulum_hinge_x, pendulum_hinge_y), 10, (200,150,10), -1 )\n",
    "\n",
    "\n",
    "        # Pendulum\n",
    "        pendulum_bob_x = int( LENGTH_OF_PENDULUM * np.cos( BOB_ANG / 180. * np.pi ) )\n",
    "        pendulum_bob_y = int( LENGTH_OF_PENDULUM * np.sin( BOB_ANG / 180. * np.pi ) )\n",
    "        cv2.circle( IM, (pendulum_hinge_x+pendulum_bob_x, pendulum_hinge_y-pendulum_bob_y), 10, (255,100,255), -1 )\n",
    "        cv2.line( IM, (pendulum_hinge_x, pendulum_hinge_y), (pendulum_hinge_x+pendulum_bob_x, pendulum_hinge_y-pendulum_bob_y), (100,200,255), 3 )\n",
    "\n",
    "        # Mark the current angle\n",
    "        angle_display = BOB_ANG % 360\n",
    "        if( angle_display > 180 ):\n",
    "            angle_display = -360+angle_display\n",
    "        cv2.putText(IM, \"theta=\"+str( np.round(angle_display,4) )+\" deg\", (pendulum_hinge_x-15, pendulum_hinge_y-15), cv2.FONT_HERSHEY_COMPLEX_SMALL, 0.8, (200,200,250), 1)\n",
    "\n",
    "\n",
    "        # Display on top\n",
    "        if t is not None:\n",
    "            cv2.putText(IM, \"t=\"+str(np.round(t,4))+\"sec\", (15, 15), cv2.FONT_HERSHEY_COMPLEX_SMALL, 0.8, (200,200,0), 1)\n",
    "            cv2.putText(IM, \"ANG=\"+str(np.round((BOB_ANG),4))+\" degrees\", (15, 35), cv2.FONT_HERSHEY_COMPLEX_SMALL, 0.8, (200,200,0), 1)\n",
    "            cv2.putText(IM, \"POS=\"+str(np.round(CART_POS,4))+\" m\", (15, 55), cv2.FONT_HERSHEY_COMPLEX_SMALL, 0.8, (200,200,0), 1)\n",
    "\n",
    "        return IM"
   ]
  },
  {
   "cell_type": "code",
   "execution_count": 38,
   "metadata": {},
   "outputs": [
    {
     "data": {
      "image/png": "[encoded data removed]",
      "text/plain": [
       "<Figure size 640x480 with 1 Axes>"
      ]
     },
     "metadata": {},
     "output_type": "display_data"
    }
   ],
   "source": [
    "# import continuous_are from scipy\n",
    "from scipy.linalg import solve_continuous_are\n",
    "\n",
    "theta_0 = np.pi/6\n",
    "\n",
    "# Define the state vector x and the control input u\n",
    "x = np.array([[0], [0], [theta_0], [0]])\n",
    "u = 0\n",
    "\n",
    "# Define the cost function weights Q and R\n",
    "Q = np.diag([100, 100, 1, 1])   # higher weight on theta for control input stability\n",
    "R = np.array([[0.1]])\n",
    "\n",
    "# Compute the optimal gain matrix K using the ARE\n",
    "P = solve_continuous_are(A, B, Q, R) # solves the continuous algebraic Riccati equation\n",
    "K = np.linalg.inv(R + B.T @ P @ B) @ (B.T @ P @ A)\n",
    "\n",
    "# Simulate the system with the computed gain matrix K\n",
    "t0, tf = 0, 50    # initial and final simulation time\n",
    "dt = 0.01     # time step\n",
    "t = np.arange(t0, tf, dt)\n",
    "x_history = np.zeros((4, len(t)))\n",
    "x_history[:, 0] = x[:, 0]\n",
    "U = []\n",
    "\n",
    "for i in range(1, len(t)):\n",
    "    # Compute the control input using the optimal gain matrix K\n",
    "    u = -F @ x\n",
    "    U.append(u)\n",
    "\n",
    "    # Update the state using the system dynamics\n",
    "    x_dot = A @ x + B @ u\n",
    "    \n",
    "    x[0] = x[0] - x_dot[0] * dt\n",
    "    x[1] = x[1] + x_dot[1] * dt\n",
    "    x[2] = x[2] + x_dot[2] * dt\n",
    "    x[3] = x[3] + x_dot[3] * dt\n",
    "\n",
    "    # Save the state history\n",
    "    x_history[:, i] = x[:, 0]\n",
    "\n",
    "# Plot the state history\n",
    "import matplotlib.pyplot as plt\n",
    "\n",
    "plt.figure()\n",
    "plt.plot(t, x_history[0, :], label='x')\n",
    "plt.plot(t, x_history[1, :], label='xdot')\n",
    "plt.plot(t, x_history[2, :], label='theta')\n",
    "plt.plot(t, x_history[3, :], label='thetadot')\n",
    "plt.legend()\n",
    "plt.xlabel('Time (s)')\n",
    "plt.ylabel('State')\n",
    "plt.show()"
   ]
  },
  {
   "cell_type": "code",
   "execution_count": 39,
   "metadata": {},
   "outputs": [
    {
     "name": "stdout",
     "output_type": "stream",
     "text": [
      "Eigen values of A + BF [-3.37507799e-14+0.j         -4.48081445e+00+0.j\n",
      " -3.06554846e-01+0.68374626j -3.06554846e-01-0.68374626j]\n"
     ]
    }
   ],
   "source": [
    "# print eig values of A + BF\n",
    "print(\"Eigen values of A + BF\", np.linalg.eigvals(A + B @ F))"
   ]
  },
  {
   "cell_type": "code",
   "execution_count": 40,
   "metadata": {},
   "outputs": [
    {
     "name": "stdout",
     "output_type": "stream",
     "text": [
      "[[8.68269917e-14 2.56725438e+00 2.33987156e+02 5.22228686e+01]]\n",
      "(5000,)\n",
      "(5000,)\n"
     ]
    }
   ],
   "source": [
    "# append 0 to first element of U\n",
    "U = np.insert(U, 0, 0)\n",
    "U = np.array(U).reshape(5000, 1)\n",
    "\n",
    "print(F)\n",
    "\n",
    "X = x_history\n",
    "\n",
    "U = U.reshape(5000, )\n",
    "X = np.array(X).reshape(4, 5000)\n",
    "x1 = X[0].reshape(5000, )\n",
    "x2 = X[1].reshape(5000, )\n",
    "x3 = X[2].reshape(5000, )\n",
    "x4 = X[3].reshape(5000, )\n",
    "\n",
    "print(np.shape(U))\n",
    "print(np.shape(x1))"
   ]
  },
  {
   "cell_type": "code",
   "execution_count": 41,
   "metadata": {},
   "outputs": [
    {
     "name": "stdout",
     "output_type": "stream",
     "text": [
      "-5.584128300157915e+201\n"
     ]
    },
    {
     "data": {
      "text/html": [
       "<div>\n",
       "<style scoped>\n",
       "    .dataframe tbody tr th:only-of-type {\n",
       "        vertical-align: middle;\n",
       "    }\n",
       "\n",
       "    .dataframe tbody tr th {\n",
       "        vertical-align: top;\n",
       "    }\n",
       "\n",
       "    .dataframe thead th {\n",
       "        text-align: right;\n",
       "    }\n",
       "</style>\n",
       "<table border=\"1\" class=\"dataframe\">\n",
       "  <thead>\n",
       "    <tr style=\"text-align: right;\">\n",
       "      <th></th>\n",
       "      <th>x</th>\n",
       "      <th>xdot</th>\n",
       "      <th>theta</th>\n",
       "      <th>thetadot</th>\n",
       "      <th>u</th>\n",
       "    </tr>\n",
       "  </thead>\n",
       "  <tbody>\n",
       "    <tr>\n",
       "      <th>0</th>\n",
       "      <td>0.000000e+00</td>\n",
       "      <td>0.000000e+00</td>\n",
       "      <td>5.235988e-01</td>\n",
       "      <td>0.000000e+00</td>\n",
       "      <td>0.000000e+00</td>\n",
       "    </tr>\n",
       "    <tr>\n",
       "      <th>1</th>\n",
       "      <td>0.000000e+00</td>\n",
       "      <td>-6.254051e-02</td>\n",
       "      <td>5.235988e-01</td>\n",
       "      <td>2.277064e-01</td>\n",
       "      <td>-1.225154e+02</td>\n",
       "    </tr>\n",
       "    <tr>\n",
       "      <th>2</th>\n",
       "      <td>6.254051e-04</td>\n",
       "      <td>-1.309465e-01</td>\n",
       "      <td>5.258758e-01</td>\n",
       "      <td>4.671437e-01</td>\n",
       "      <td>-1.342463e+02</td>\n",
       "    </tr>\n",
       "    <tr>\n",
       "      <th>3</th>\n",
       "      <td>1.934870e-03</td>\n",
       "      <td>-2.057887e-01</td>\n",
       "      <td>5.305473e-01</td>\n",
       "      <td>7.198997e-01</td>\n",
       "      <td>-1.471076e+02</td>\n",
       "    </tr>\n",
       "    <tr>\n",
       "      <th>4</th>\n",
       "      <td>3.992757e-03</td>\n",
       "      <td>-2.876926e-01</td>\n",
       "      <td>5.377463e-01</td>\n",
       "      <td>9.876949e-01</td>\n",
       "      <td>-1.612082e+02</td>\n",
       "    </tr>\n",
       "    <tr>\n",
       "      <th>...</th>\n",
       "      <td>...</td>\n",
       "      <td>...</td>\n",
       "      <td>...</td>\n",
       "      <td>...</td>\n",
       "      <td>...</td>\n",
       "    </tr>\n",
       "    <tr>\n",
       "      <th>4995</th>\n",
       "      <td>2.297813e+198</td>\n",
       "      <td>-2.213888e+199</td>\n",
       "      <td>5.825669e+198</td>\n",
       "      <td>5.612892e+199</td>\n",
       "      <td>-3.865114e+201</td>\n",
       "    </tr>\n",
       "    <tr>\n",
       "      <th>4996</th>\n",
       "      <td>2.519202e+198</td>\n",
       "      <td>-2.427190e+199</td>\n",
       "      <td>6.386958e+198</td>\n",
       "      <td>6.153680e+199</td>\n",
       "      <td>-4.237509e+201</td>\n",
       "    </tr>\n",
       "    <tr>\n",
       "      <th>4997</th>\n",
       "      <td>2.761921e+198</td>\n",
       "      <td>-2.661044e+199</td>\n",
       "      <td>7.002326e+198</td>\n",
       "      <td>6.746572e+199</td>\n",
       "      <td>-4.645782e+201</td>\n",
       "    </tr>\n",
       "    <tr>\n",
       "      <th>4998</th>\n",
       "      <td>3.028025e+198</td>\n",
       "      <td>-2.917429e+199</td>\n",
       "      <td>7.676984e+198</td>\n",
       "      <td>7.396588e+199</td>\n",
       "      <td>-5.093392e+201</td>\n",
       "    </tr>\n",
       "    <tr>\n",
       "      <th>4999</th>\n",
       "      <td>3.319768e+198</td>\n",
       "      <td>-3.198517e+199</td>\n",
       "      <td>8.416642e+198</td>\n",
       "      <td>8.109232e+199</td>\n",
       "      <td>-5.584128e+201</td>\n",
       "    </tr>\n",
       "  </tbody>\n",
       "</table>\n",
       "<p>5000 rows × 5 columns</p>\n",
       "</div>"
      ],
      "text/plain": [
       "                  x           xdot          theta       thetadot   \n",
       "0      0.000000e+00   0.000000e+00   5.235988e-01   0.000000e+00  \\\n",
       "1      0.000000e+00  -6.254051e-02   5.235988e-01   2.277064e-01   \n",
       "2      6.254051e-04  -1.309465e-01   5.258758e-01   4.671437e-01   \n",
       "3      1.934870e-03  -2.057887e-01   5.305473e-01   7.198997e-01   \n",
       "4      3.992757e-03  -2.876926e-01   5.377463e-01   9.876949e-01   \n",
       "...             ...            ...            ...            ...   \n",
       "4995  2.297813e+198 -2.213888e+199  5.825669e+198  5.612892e+199   \n",
       "4996  2.519202e+198 -2.427190e+199  6.386958e+198  6.153680e+199   \n",
       "4997  2.761921e+198 -2.661044e+199  7.002326e+198  6.746572e+199   \n",
       "4998  3.028025e+198 -2.917429e+199  7.676984e+198  7.396588e+199   \n",
       "4999  3.319768e+198 -3.198517e+199  8.416642e+198  8.109232e+199   \n",
       "\n",
       "                  u  \n",
       "0      0.000000e+00  \n",
       "1     -1.225154e+02  \n",
       "2     -1.342463e+02  \n",
       "3     -1.471076e+02  \n",
       "4     -1.612082e+02  \n",
       "...             ...  \n",
       "4995 -3.865114e+201  \n",
       "4996 -4.237509e+201  \n",
       "4997 -4.645782e+201  \n",
       "4998 -5.093392e+201  \n",
       "4999 -5.584128e+201  \n",
       "\n",
       "[5000 rows x 5 columns]"
      ]
     },
     "execution_count": 41,
     "metadata": {},
     "output_type": "execute_result"
    }
   ],
   "source": [
    "import pandas as pd\n",
    "\n",
    "df = pd.DataFrame({'x': x1, 'xdot': x2, 'theta': x3, 'thetadot': x4, 'u': U}, )\n",
    "# print df with style\n",
    "# print(df)\n",
    "print(min(U))\n",
    "df"
   ]
  },
  {
   "cell_type": "code",
   "execution_count": 42,
   "metadata": {},
   "outputs": [
    {
     "ename": "error",
     "evalue": "OpenCV(4.7.0) :-1: error: (-5:Bad argument) in function 'circle'\n> Overload resolution failed:\n>  - Can't parse 'center'. Sequence item with index 0 has a wrong type\n>  - Can't parse 'center'. Sequence item with index 0 has a wrong type\n",
     "output_type": "error",
     "traceback": [
      "\u001b[1;31m---------------------------------------------------------------------------\u001b[0m",
      "\u001b[1;31merror\u001b[0m                                     Traceback (most recent call last)",
      "Cell \u001b[1;32mIn[42], line 4\u001b[0m\n\u001b[0;32m      1\u001b[0m syst \u001b[39m=\u001b[39m InvertedPendulum()\n\u001b[0;32m      3\u001b[0m \u001b[39mfor\u001b[39;00m i \u001b[39min\u001b[39;00m \u001b[39mrange\u001b[39m(\u001b[39mlen\u001b[39m(X[\u001b[39m0\u001b[39m])):\n\u001b[1;32m----> 4\u001b[0m     rendered \u001b[39m=\u001b[39m syst\u001b[39m.\u001b[39;49mstep( [X[\u001b[39m0\u001b[39;49m][i], X[\u001b[39m1\u001b[39;49m][i], X[\u001b[39m2\u001b[39;49m][i] \u001b[39m+\u001b[39;49m np\u001b[39m.\u001b[39;49mpi\u001b[39m/\u001b[39;49m\u001b[39m2\u001b[39;49m, X[\u001b[39m3\u001b[39;49m][i]], t\u001b[39m=\u001b[39;49mi\u001b[39m*\u001b[39;49m\u001b[39m0.01\u001b[39;49m)\n\u001b[0;32m      5\u001b[0m     cv2\u001b[39m.\u001b[39mimshow( \u001b[39m'\u001b[39m\u001b[39mim\u001b[39m\u001b[39m'\u001b[39m, rendered )\n\u001b[0;32m      7\u001b[0m     \u001b[39m# Press q to exit\u001b[39;00m\n",
      "Cell \u001b[1;32mIn[34], line 42\u001b[0m, in \u001b[0;36mInvertedPendulum.step\u001b[1;34m(self, state_vec, t)\u001b[0m\n\u001b[0;32m     39\u001b[0m wheel_1_pos \u001b[39m=\u001b[39m \u001b[39mint\u001b[39m(   (CART_POS \u001b[39m-\u001b[39m \u001b[39m3\u001b[39m \u001b[39m-\u001b[39m XSTART) \u001b[39m/\u001b[39m (XEND \u001b[39m-\u001b[39m XSTART) \u001b[39m*\u001b[39m IM\u001b[39m.\u001b[39mshape[\u001b[39m0\u001b[39m]   )\n\u001b[0;32m     40\u001b[0m wheel_2_pos \u001b[39m=\u001b[39m \u001b[39mint\u001b[39m(   (CART_POS \u001b[39m+\u001b[39m \u001b[39m3\u001b[39m \u001b[39m-\u001b[39m XSTART) \u001b[39m/\u001b[39m (XEND \u001b[39m-\u001b[39m XSTART) \u001b[39m*\u001b[39m IM\u001b[39m.\u001b[39mshape[\u001b[39m0\u001b[39m]   )\n\u001b[1;32m---> 42\u001b[0m cv2\u001b[39m.\u001b[39;49mcircle( IM, (wheel_1_pos, \u001b[39m415\u001b[39;49m), \u001b[39m25\u001b[39;49m, (\u001b[39m0\u001b[39;49m,\u001b[39m255\u001b[39;49m,\u001b[39m255\u001b[39;49m), \u001b[39m6\u001b[39;49m )\n\u001b[0;32m     43\u001b[0m cv2\u001b[39m.\u001b[39mcircle( IM, (wheel_2_pos, \u001b[39m415\u001b[39m), \u001b[39m25\u001b[39m, (\u001b[39m0\u001b[39m,\u001b[39m255\u001b[39m,\u001b[39m255\u001b[39m), \u001b[39m6\u001b[39m )\n\u001b[0;32m     44\u001b[0m cv2\u001b[39m.\u001b[39mcircle( IM, (wheel_1_pos, \u001b[39m415\u001b[39m), \u001b[39m2\u001b[39m, (\u001b[39m0\u001b[39m,\u001b[39m255\u001b[39m,\u001b[39m255\u001b[39m), \u001b[39m-\u001b[39m\u001b[39m1\u001b[39m )\n",
      "\u001b[1;31merror\u001b[0m: OpenCV(4.7.0) :-1: error: (-5:Bad argument) in function 'circle'\n> Overload resolution failed:\n>  - Can't parse 'center'. Sequence item with index 0 has a wrong type\n>  - Can't parse 'center'. Sequence item with index 0 has a wrong type\n"
     ]
    }
   ],
   "source": [
    "syst = InvertedPendulum()\n",
    "\n",
    "for i in range(len(X[0])):\n",
    "    rendered = syst.step( [X[0][i], X[1][i], X[2][i] + np.pi/2, X[3][i]], t=i*0.01)\n",
    "    cv2.imshow( 'im', rendered )\n",
    "\n",
    "    # Press q to exit\n",
    "\n",
    "    if cv2.waitKey(5) == ord('q'):\n",
    "        break\n",
    "\n",
    "cv2.destroyAllWindows()"
   ]
  },
  {
   "cell_type": "code",
   "execution_count": 43,
   "metadata": {},
   "outputs": [],
   "source": [
    "cv2.destroyAllWindows()\n",
    "\n"
   ]
  }
 ],
 "metadata": {
  "kernelspec": {
   "display_name": "Python 3",
   "language": "python",
   "name": "python3"
  },
  "language_info": {
   "codemirror_mode": {
    "name": "ipython",
    "version": 3
   },
   "file_extension": ".py",
   "mimetype": "text/x-python",
   "name": "python",
   "nbconvert_exporter": "python",
   "pygments_lexer": "ipython3",
   "version": "3.11.2"
  },
  "orig_nbformat": 4
 },
 "nbformat": 4,
 "nbformat_minor": 2
}
